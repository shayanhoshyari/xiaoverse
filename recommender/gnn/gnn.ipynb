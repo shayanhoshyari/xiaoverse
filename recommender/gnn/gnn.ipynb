{
 "cells": [
  {
   "cell_type": "code",
   "execution_count": 1,
   "metadata": {},
   "outputs": [
    {
     "name": "stdout",
     "output_type": "stream",
     "text": [
      "Data(x=[4, 3], edge_index=[2, 6])\n"
     ]
    }
   ],
   "source": [
    "import torch\n",
    "import torch.nn.functional as F\n",
    "from torch_geometric.data import Data\n",
    "from torch_geometric.nn import GCNConv\n",
    "\n",
    "# Define a simple graph with 4 nodes\n",
    "edge_index = torch.tensor(\n",
    "    [\n",
    "        [0, 1, 1, 2, 2, 3],  # From\n",
    "        [1, 0, 2, 1, 3, 2],  # To\n",
    "    ],\n",
    "    dtype=torch.long,\n",
    ")  # Each pair represents an edge\n",
    "\n",
    "# Features for each node (random for simplicity)\n",
    "x = torch.rand((4, 3))  # 4 nodes, each with a 3-dimensional feature\n",
    "\n",
    "# Create a PyTorch Geometric graph object\n",
    "graph = Data(x=x, edge_index=edge_index)\n",
    "\n",
    "print(graph)"
   ]
  },
  {
   "cell_type": "code",
   "execution_count": 4,
   "metadata": {},
   "outputs": [
    {
     "name": "stdout",
     "output_type": "stream",
     "text": [
      "tensor([[-1.2258, -1.0119],\n",
      "        [-1.4147, -1.2552],\n",
      "        [-1.4661, -1.4053],\n",
      "        [-1.1372, -1.1744]], grad_fn=<AddBackward0>)\n"
     ]
    }
   ],
   "source": [
    "import torch.nn as nn\n",
    "\n",
    "\n",
    "class SimpleGNN(nn.Module):\n",
    "    def __init__(self, in_features, hidden_dim, out_features):\n",
    "        super().__init__()\n",
    "        self.conv1 = GCNConv(in_features, hidden_dim)  # First graph conv layer\n",
    "        self.conv2 = GCNConv(hidden_dim, out_features)  # Second graph conv layer\n",
    "\n",
    "    def forward(self, x, edge_index):\n",
    "        x = self.conv1(x, edge_index)  # Message passing step 1\n",
    "        x = F.relu(x)  # Apply activation function\n",
    "        x = self.conv2(x, edge_index)  # Message passing step 2\n",
    "        return x\n",
    "\n",
    "\n",
    "# Create the model\n",
    "model = SimpleGNN(in_features=3, hidden_dim=5, out_features=2)\n",
    "\n",
    "# Forward pass (Get node representations)\n",
    "output = model(graph.x, graph.edge_index)\n",
    "print(output)"
   ]
  },
  {
   "cell_type": "code",
   "execution_count": 8,
   "metadata": {},
   "outputs": [
    {
     "name": "stdout",
     "output_type": "stream",
     "text": [
      "Parameter containing:\n",
      "tensor([0., 0., 0., 0., 0.], requires_grad=True)\n",
      "Parameter containing:\n",
      "tensor([[-0.3588,  0.5035, -0.8183],\n",
      "        [ 0.8264, -0.0808, -0.7439],\n",
      "        [ 0.6600, -0.2381,  0.3530],\n",
      "        [-0.1486, -0.6463, -0.0533],\n",
      "        [ 0.7522,  0.7557,  0.7340]], requires_grad=True)\n",
      "Parameter containing:\n",
      "tensor([0., 0.], requires_grad=True)\n",
      "Parameter containing:\n",
      "tensor([[-0.3809,  0.7348, -0.7144,  0.9006, -0.9067],\n",
      "        [-0.5737,  0.0233, -0.9088, -0.2318, -0.6454]], requires_grad=True)\n"
     ]
    }
   ],
   "source": [
    "print(model)"
   ]
  }
 ],
 "metadata": {
  "kernelspec": {
   "display_name": "Python 3 (ipykernel)",
   "language": "python",
   "name": "python3"
  },
  "language_info": {
   "codemirror_mode": {
    "name": "ipython",
    "version": 3
   },
   "file_extension": ".py",
   "mimetype": "text/x-python",
   "name": "python",
   "nbconvert_exporter": "python",
   "pygments_lexer": "ipython3",
   "version": "3.12.8"
  }
 },
 "nbformat": 4,
 "nbformat_minor": 2
}
