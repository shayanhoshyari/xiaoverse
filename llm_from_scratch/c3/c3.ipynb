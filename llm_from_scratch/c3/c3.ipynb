{
 "cells": [
  {
   "cell_type": "markdown",
   "metadata": {},
   "source": [
    "# Simplified Attention"
   ]
  },
  {
   "cell_type": "code",
   "execution_count": 1,
   "metadata": {},
   "outputs": [
    {
     "name": "stderr",
     "output_type": "stream",
     "text": [
      "/private/var/tmp/_bazel_hoshyari/e7198472d5e413c18f06cfb8f623b4c8/execroot/_main/bazel-out/darwin_arm64-dbg/bin/llm_from_scratch/c3/notebook.runfiles/rules_python++pip+pypi_312_torch/site-packages/torch/_subclasses/functional_tensor.py:275: UserWarning: Failed to initialize NumPy: No module named 'numpy' (Triggered internally at /Users/runner/work/pytorch/pytorch/pytorch/torch/csrc/utils/tensor_numpy.cpp:81.)\n",
      "  cpu = _conversion_method_template(device=torch.device(\"cpu\"))\n"
     ]
    }
   ],
   "source": [
    "import torch\n",
    "\n",
    "inputs = torch.tensor(\n",
    "    [\n",
    "        [0.43, 0.15, 0.89],  # Your     (x^1)\n",
    "        [0.55, 0.87, 0.66],  # journey  (x^2)\n",
    "        [0.57, 0.85, 0.64],  # starts   (x^3)\n",
    "        [0.22, 0.58, 0.33],  # with     (x^4)\n",
    "        [0.77, 0.25, 0.10],  # one      (x^5)\n",
    "        [0.05, 0.80, 0.55],\n",
    "    ]  # step     (x^6)\n",
    ")"
   ]
  },
  {
   "cell_type": "code",
   "execution_count": 2,
   "metadata": {},
   "outputs": [
    {
     "name": "stdout",
     "output_type": "stream",
     "text": [
      "query: tensor([0.5500, 0.8700, 0.6600])\n",
      "x_0 : tensor([0.4300, 0.1500, 0.8900]), dot: 0.9544000625610352\n",
      "x_1 : tensor([0.5500, 0.8700, 0.6600]), dot: 1.4950001239776611\n",
      "x_2 : tensor([0.5700, 0.8500, 0.6400]), dot: 1.4754000902175903\n",
      "x_3 : tensor([0.2200, 0.5800, 0.3300]), dot: 0.8434000015258789\n",
      "x_4 : tensor([0.7700, 0.2500, 0.1000]), dot: 0.7070000171661377\n",
      "x_5 : tensor([0.0500, 0.8000, 0.5500]), dot: 1.0865000486373901\n",
      "tensor([0.9544, 1.4950, 1.4754, 0.8434, 0.7070, 1.0865])\n"
     ]
    }
   ],
   "source": [
    "query = inputs[1]  # 1\n",
    "attn_scores_2 = torch.empty(inputs.shape[0])\n",
    "print(f\"query: {query}\")\n",
    "for i, x_i in enumerate(inputs):\n",
    "    attn_scores_2[i] = x_i.dot(query)  # torch.dot(x_i, query) - both are same.\n",
    "    print(f\"x_{i} : {x_i}, dot: {attn_scores_2[i]}\")\n",
    "print(attn_scores_2)"
   ]
  },
  {
   "cell_type": "code",
   "execution_count": 3,
   "metadata": {},
   "outputs": [
    {
     "name": "stdout",
     "output_type": "stream",
     "text": [
      "Attention weights: tensor([0.1455, 0.2278, 0.2249, 0.1285, 0.1077, 0.1656])\n",
      "Sum: tensor(1.0000)\n"
     ]
    }
   ],
   "source": [
    "attn_weights_2_tmp = attn_scores_2 / attn_scores_2.sum()\n",
    "print(\"Attention weights:\", attn_weights_2_tmp)\n",
    "print(\"Sum:\", attn_weights_2_tmp.sum())"
   ]
  },
  {
   "cell_type": "code",
   "execution_count": 4,
   "metadata": {},
   "outputs": [
    {
     "name": "stdout",
     "output_type": "stream",
     "text": [
      "tensor([0.1385, 0.2379, 0.2333, 0.1240, 0.1082, 0.1581])\n"
     ]
    }
   ],
   "source": [
    "from llm_from_scratch.c3 import softmax_naive\n",
    "\n",
    "attn_weights_2 = softmax_naive(attn_scores_2)\n",
    "print(attn_weights_2)"
   ]
  },
  {
   "cell_type": "code",
   "execution_count": 5,
   "metadata": {},
   "outputs": [
    {
     "name": "stdout",
     "output_type": "stream",
     "text": [
      "tensor([0.4419, 0.6515, 0.5683])\n"
     ]
    }
   ],
   "source": [
    "query = inputs[1]\n",
    "context_vec_2 = torch.zeros(query.shape)\n",
    "for i, x_i in enumerate(inputs):\n",
    "    context_vec_2 += attn_weights_2[i] * x_i\n",
    "print(context_vec_2)"
   ]
  },
  {
   "cell_type": "code",
   "execution_count": 6,
   "metadata": {},
   "outputs": [
    {
     "name": "stdout",
     "output_type": "stream",
     "text": [
      "tensor([[0.9995, 0.9544, 0.9422, 0.4753, 0.4576, 0.6310],\n",
      "        [0.9544, 1.4950, 1.4754, 0.8434, 0.7070, 1.0865],\n",
      "        [0.9422, 1.4754, 1.4570, 0.8296, 0.7154, 1.0605],\n",
      "        [0.4753, 0.8434, 0.8296, 0.4937, 0.3474, 0.6565],\n",
      "        [0.4576, 0.7070, 0.7154, 0.3474, 0.6654, 0.2935],\n",
      "        [0.6310, 1.0865, 1.0605, 0.6565, 0.2935, 0.9450]])\n"
     ]
    }
   ],
   "source": [
    "attn_scores = torch.empty(6, 6)\n",
    "for i, x_i in enumerate(inputs):\n",
    "    for j, x_j in enumerate(inputs):\n",
    "        attn_scores[i, j] = x_i.dot(x_j)\n",
    "print(attn_scores)"
   ]
  },
  {
   "cell_type": "code",
   "execution_count": 7,
   "metadata": {},
   "outputs": [
    {
     "name": "stdout",
     "output_type": "stream",
     "text": [
      "tensor([[0.9995, 0.9544, 0.9422, 0.4753, 0.4576, 0.6310],\n",
      "        [0.9544, 1.4950, 1.4754, 0.8434, 0.7070, 1.0865],\n",
      "        [0.9422, 1.4754, 1.4570, 0.8296, 0.7154, 1.0605],\n",
      "        [0.4753, 0.8434, 0.8296, 0.4937, 0.3474, 0.6565],\n",
      "        [0.4576, 0.7070, 0.7154, 0.3474, 0.6654, 0.2935],\n",
      "        [0.6310, 1.0865, 1.0605, 0.6565, 0.2935, 0.9450]])\n",
      "tensor([[1.4561, 1.3876, 1.2876],\n",
      "        [1.3876, 2.5408, 1.9081],\n",
      "        [1.2876, 1.9081, 2.0587]])\n"
     ]
    }
   ],
   "source": [
    "# inputs: 6 x 3\n",
    "# (6x3) @ (3x6) = (6x6)\n",
    "attn_scores = inputs @ inputs.T\n",
    "print(attn_scores)\n",
    "\n",
    "# What if I use * instead of @\n",
    "# This just does element by element *\n",
    "# and because dimentions do not match, does not work.\n",
    "# experiment = inputs * inputs.T\n",
    "# print(experiment)\n",
    "\n",
    "# What happens if we do this the other way around?\n",
    "# (3x6) @ (6x3) = (3x3)\n",
    "experiment = inputs.T @ inputs\n",
    "print(experiment)"
   ]
  },
  {
   "cell_type": "code",
   "execution_count": 8,
   "metadata": {},
   "outputs": [
    {
     "name": "stdout",
     "output_type": "stream",
     "text": [
      "> a tensor([1, 2, 3])\n",
      "> b tensor([1, 2, 3])\n",
      "> torch.stack(a, b) tensor([[1, 2, 3],\n",
      "        [4, 5, 7]])\n",
      "> c.T tensor([[1, 4],\n",
      "        [2, 5],\n",
      "        [3, 7]])\n",
      "> a.unsqueeze(0) tensor([[1, 2, 3]])\n",
      "> a.unsqueeze(1) tensor([[1],\n",
      "        [2],\n",
      "        [3]])\n",
      "> a.unsqueeze(0).T tensor([[1],\n",
      "        [2],\n",
      "        [3]])\n",
      "> a.unsqueeze(0).permute(0, 1) tensor([[1, 2, 3]])\n",
      "> a[None, :] tensor([[1, 2, 3]])\n",
      "> a[:, None] tensor([[1],\n",
      "        [2],\n",
      "        [3]])\n",
      "> a[:, None, None] tensor([[[1],\n",
      "         [2],\n",
      "         [3]]])\n",
      "> a*b tensor([ 4, 10, 21])\n",
      "> a@b tensor(35)\n"
     ]
    }
   ],
   "source": [
    "a = torch.tensor([1, 2, 3])\n",
    "b = torch.tensor([4, 5, 7])\n",
    "print(\"> a\", a)\n",
    "print(\"> b\", a)\n",
    "\n",
    "# Stack will add another dimension\n",
    "c = torch.stack((a, b))\n",
    "print(\"> torch.stack(a, b)\", c)\n",
    "\n",
    "# .T only well defined for 2-D tensor\n",
    "print(\"> c.T\", c.T)\n",
    "\n",
    "# .T on other dimentions tensors is not defined and will be removed\n",
    "# in later releases.\n",
    "# You can, however, use torch.permuate(...)\n",
    "# print(\"> a.T\", a.T) -- in older torch just returns a\n",
    "\n",
    "# To actually turn a 1 dim row matrix to a colum matrix, you can\n",
    "# do this\n",
    "print(\"> a.unsqueeze(0)\", a.unsqueeze(0))\n",
    "print(\"> a.unsqueeze(1)\", a.unsqueeze(1))\n",
    "print(\"> a.unsqueeze(0).T\", a.unsqueeze(0).T)\n",
    "print(\"> a.unsqueeze(0).permute(0, 1)\", a.unsqueeze(0).permute(0, 1))\n",
    "# print(\"> a.unsqueeze(2)\", a.unsqueeze(2)) -- this fails.\n",
    "print(\"> a[None, :]\", a[None, :])\n",
    "print(\"> a[:, None]\", a[:, None])\n",
    "print(\"> a[:, None, None]\", a[None, :, None])\n",
    "\n",
    "\n",
    "print(\"> a*b\", a * b)\n",
    "\n",
    "# What does a.T or b.T do?\n",
    "\n",
    "# This gives s\n",
    "\n",
    "# What does @ do exactly?\n",
    "print(\"> a@b\", a @ b)"
   ]
  },
  {
   "cell_type": "code",
   "execution_count": 9,
   "metadata": {},
   "outputs": [
    {
     "name": "stdout",
     "output_type": "stream",
     "text": [
      "tensor([[0.2098, 0.2006, 0.1981, 0.1242, 0.1220, 0.1452],\n",
      "        [0.1385, 0.2379, 0.2333, 0.1240, 0.1082, 0.1581],\n",
      "        [0.1390, 0.2369, 0.2326, 0.1242, 0.1108, 0.1565],\n",
      "        [0.1435, 0.2074, 0.2046, 0.1462, 0.1263, 0.1720],\n",
      "        [0.1526, 0.1958, 0.1975, 0.1367, 0.1879, 0.1295],\n",
      "        [0.1385, 0.2184, 0.2128, 0.1420, 0.0988, 0.1896]])\n"
     ]
    }
   ],
   "source": [
    "attn_weights = torch.softmax(attn_scores, dim=1)\n",
    "print(attn_weights)"
   ]
  },
  {
   "cell_type": "code",
   "execution_count": 10,
   "metadata": {},
   "outputs": [
    {
     "name": "stdout",
     "output_type": "stream",
     "text": [
      "tensor([[0.4421, 0.5931, 0.5790],\n",
      "        [0.4419, 0.6515, 0.5683],\n",
      "        [0.4431, 0.6496, 0.5671],\n",
      "        [0.4304, 0.6298, 0.5510],\n",
      "        [0.4671, 0.5910, 0.5266],\n",
      "        [0.4177, 0.6503, 0.5645]])\n"
     ]
    }
   ],
   "source": [
    "all_context_vecs = attn_weights @ inputs\n",
    "print(all_context_vecs)\n",
    "\n",
    "# * In this simple case we did (X.X^T)X\n",
    "# * Where normally you do ( (QX) (KX)^T ) V X\n",
    "#\n",
    "# Why don't we just optimize for QK^T directory, rather than introducing\n",
    "# Q and K separately?"
   ]
  },
  {
   "cell_type": "markdown",
   "metadata": {},
   "source": [
    "# Self Attention"
   ]
  },
  {
   "cell_type": "code",
   "execution_count": 11,
   "metadata": {},
   "outputs": [],
   "source": [
    "x_2 = inputs[1]  # 1\n",
    "d_in = inputs.shape[1]  # 2\n",
    "d_out = 2  # 3"
   ]
  },
  {
   "cell_type": "code",
   "execution_count": 12,
   "metadata": {},
   "outputs": [],
   "source": [
    "torch.manual_seed(123)\n",
    "W_query = torch.nn.Parameter(torch.rand(d_in, d_out), requires_grad=False)\n",
    "W_key = torch.nn.Parameter(torch.rand(d_in, d_out), requires_grad=False)\n",
    "W_value = torch.nn.Parameter(torch.rand(d_in, d_out), requires_grad=False)"
   ]
  },
  {
   "cell_type": "code",
   "execution_count": 13,
   "metadata": {},
   "outputs": [
    {
     "name": "stdout",
     "output_type": "stream",
     "text": [
      "- Discovering the @ operator\n",
      "torch.Size([3])\n",
      "torch.Size([3, 2])\n",
      "tensor([[0.2961, 0.5166],\n",
      "        [0.2517, 0.6886],\n",
      "        [0.0740, 0.8665]])\n",
      "tensor([0.2961, 0.5166])\n",
      "tensor([0.2517, 0.6886])\n",
      "tensor([0.3701, 1.3831])\n",
      "\n",
      "- Compute Query_2\n",
      "tensor([0.4306, 1.4551])\n"
     ]
    }
   ],
   "source": [
    "print(\"- Discovering the @ operator\")\n",
    "print(x_2.shape)\n",
    "print(W_query.shape)\n",
    "print(W_query.data)\n",
    "\n",
    "print(torch.tensor([1.0, 0, 0]) @ W_query)\n",
    "print(torch.tensor([0.0, 1, 0]) @ W_query)\n",
    "print(torch.tensor([1.0, 0, 1]) @ W_query)\n",
    "\n",
    "print(\"\\n- Compute Query_2\")\n",
    "query_2 = x_2 @ W_query\n",
    "key_2 = x_2 @ W_key\n",
    "value_2 = x_2 @ W_value\n",
    "print(query_2)"
   ]
  },
  {
   "cell_type": "code",
   "execution_count": 14,
   "metadata": {},
   "outputs": [
    {
     "name": "stdout",
     "output_type": "stream",
     "text": [
      "keys.shape: torch.Size([6, 2])\n",
      "values.shape: torch.Size([6, 2])\n",
      "queries.shape: torch.Size([6, 2])\n"
     ]
    }
   ],
   "source": [
    "keys = inputs @ W_key\n",
    "values = inputs @ W_value\n",
    "queries = inputs @ W_query\n",
    "print(\"keys.shape:\", keys.shape)\n",
    "print(\"values.shape:\", values.shape)\n",
    "print(\"queries.shape:\", queries.shape)"
   ]
  },
  {
   "cell_type": "code",
   "execution_count": 15,
   "metadata": {},
   "outputs": [
    {
     "name": "stdout",
     "output_type": "stream",
     "text": [
      "tensor(1.8524)\n"
     ]
    }
   ],
   "source": [
    "keys_2 = keys[1]  # 1\n",
    "attn_score_22 = query_2.dot(keys_2)\n",
    "print(attn_score_22)"
   ]
  },
  {
   "cell_type": "code",
   "execution_count": 16,
   "metadata": {},
   "outputs": [
    {
     "name": "stdout",
     "output_type": "stream",
     "text": [
      "tensor([1.2705, 1.8524, 1.8111, 1.0795, 0.5577, 1.5440])\n",
      "tensor([1.2705, 1.8524, 1.8111, 1.0795, 0.5577, 1.5440])\n",
      "All weights tensor([[0.9231, 1.3545, 1.3241, 0.7910, 0.4032, 1.1330],\n",
      "        [1.2705, 1.8524, 1.8111, 1.0795, 0.5577, 1.5440],\n",
      "        [1.2544, 1.8284, 1.7877, 1.0654, 0.5508, 1.5238],\n",
      "        [0.6973, 1.0167, 0.9941, 0.5925, 0.3061, 0.8475],\n",
      "        [0.6114, 0.8819, 0.8626, 0.5121, 0.2707, 0.7307],\n",
      "        [0.8995, 1.3165, 1.2871, 0.7682, 0.3937, 1.0996]])\n",
      "All weights . T tensor([[0.9231, 1.2705, 1.2544, 0.6973, 0.6114, 0.8995],\n",
      "        [1.3545, 1.8524, 1.8284, 1.0167, 0.8819, 1.3165],\n",
      "        [1.3241, 1.8111, 1.7877, 0.9941, 0.8626, 1.2871],\n",
      "        [0.7910, 1.0795, 1.0654, 0.5925, 0.5121, 0.7682],\n",
      "        [0.4032, 0.5577, 0.5508, 0.3061, 0.2707, 0.3937],\n",
      "        [1.1330, 1.5440, 1.5238, 0.8475, 0.7307, 1.0996]])\n"
     ]
    }
   ],
   "source": [
    "attn_scores_2 = query_2 @ keys.T  # (2) @ (2 * n)       #1\n",
    "print(attn_scores_2)\n",
    "\n",
    "print(keys @ query_2)  # (n * 2) * 2 This gives the same result too\n",
    "\n",
    "# what if I try for everyone - this gives weight_ij = q_i * v_j\n",
    "# which is what we want, row i column j is (when sample i queries value of j) i.e. q_i * v_j\n",
    "print(\"All weights\", queries @ keys.T)\n",
    "\n",
    "# This does not work, unlike the 1 sample case -- 6x2 * 2x6\n",
    "# print(\"All weights\", keys @ queries)\n",
    "# This works, it is just transposed.\n",
    "# i.e. weights_ij = v_i * q_j\n",
    "print(\"All weights . T\", keys @ queries.T)"
   ]
  },
  {
   "cell_type": "code",
   "execution_count": 17,
   "metadata": {},
   "outputs": [
    {
     "name": "stdout",
     "output_type": "stream",
     "text": [
      "d_k=2\n",
      "attn_weights_2= tensor([0.1500, 0.2264, 0.2199, 0.1311, 0.0906, 0.1820])\n",
      "context_vec_2= tensor([0.3061, 0.8210])\n"
     ]
    }
   ],
   "source": [
    "d_k = keys.shape[-1]\n",
    "print(f\"d_k={d_k}\")\n",
    "attn_weights_2 = torch.softmax(attn_scores_2 / d_k**0.5, dim=-1)\n",
    "print(\"attn_weights_2=\", attn_weights_2)\n",
    "\n",
    "context_vec_2 = attn_weights_2 @ values\n",
    "print(\"context_vec_2=\", context_vec_2)"
   ]
  },
  {
   "cell_type": "code",
   "execution_count": 18,
   "metadata": {},
   "outputs": [],
   "source": [
    "import torch.nn as nn\n",
    "import torch\n",
    "\n",
    "\n",
    "class SelfAttention_v1(nn.Module):\n",
    "    def __init__(self, d_in: int, d_out: int) -> None:\n",
    "        super().__init__()\n",
    "        self.W_query = nn.Parameter(torch.rand(d_in, d_out))\n",
    "        self.W_key = nn.Parameter(torch.rand(d_in, d_out))\n",
    "        self.W_value = nn.Parameter(torch.rand(d_in, d_out))\n",
    "\n",
    "    def forward(self, x: torch.Tensor) -> torch.Tensor:\n",
    "        keys = x @ self.W_key\n",
    "        queries = x @ self.W_query\n",
    "        values = x @ self.W_value\n",
    "        attn_scores = queries @ keys.T  # omega\n",
    "        attn_weights = torch.softmax(attn_scores / keys.shape[-1] ** 0.5, dim=-1)\n",
    "        context_vec = attn_weights @ values\n",
    "        return context_vec"
   ]
  },
  {
   "cell_type": "code",
   "execution_count": 19,
   "metadata": {},
   "outputs": [
    {
     "name": "stdout",
     "output_type": "stream",
     "text": [
      "tensor([[0.2996, 0.8053],\n",
      "        [0.3061, 0.8210],\n",
      "        [0.3058, 0.8203],\n",
      "        [0.2948, 0.7939],\n",
      "        [0.2927, 0.7891],\n",
      "        [0.2990, 0.8040]], grad_fn=<MmBackward0>)\n"
     ]
    }
   ],
   "source": [
    "torch.manual_seed(123)\n",
    "sa_v1 = SelfAttention_v1(d_in, d_out)\n",
    "print(sa_v1(inputs))"
   ]
  },
  {
   "cell_type": "code",
   "execution_count": 20,
   "metadata": {},
   "outputs": [],
   "source": [
    "class SelfAttention_v2(nn.Module):\n",
    "    def __init__(self, d_in, d_out, qkv_bias=False) -> None:\n",
    "        super().__init__()\n",
    "        self.W_query = nn.Linear(d_in, d_out, bias=qkv_bias)\n",
    "        self.W_key = nn.Linear(d_in, d_out, bias=qkv_bias)\n",
    "        self.W_value = nn.Linear(d_in, d_out, bias=qkv_bias)\n",
    "\n",
    "    def forward(self, x: torch.Tensor) -> torch.Tensor:\n",
    "        keys = self.W_key(x)\n",
    "        queries = self.W_query(x)\n",
    "        values = self.W_value(x)\n",
    "        attn_scores = queries @ keys.T\n",
    "        attn_weights = torch.softmax(attn_scores / keys.shape[-1] ** 0.5, dim=-1)\n",
    "        context_vec = attn_weights @ values\n",
    "        return context_vec"
   ]
  },
  {
   "cell_type": "code",
   "execution_count": 21,
   "metadata": {},
   "outputs": [
    {
     "name": "stdout",
     "output_type": "stream",
     "text": [
      "tensor([[-0.0739,  0.0713],\n",
      "        [-0.0748,  0.0703],\n",
      "        [-0.0749,  0.0702],\n",
      "        [-0.0760,  0.0685],\n",
      "        [-0.0763,  0.0679],\n",
      "        [-0.0754,  0.0693]], grad_fn=<MmBackward0>)\n"
     ]
    }
   ],
   "source": [
    "torch.manual_seed(789)\n",
    "sa_v2 = SelfAttention_v2(d_in, d_out)\n",
    "print(sa_v2(inputs))"
   ]
  },
  {
   "cell_type": "markdown",
   "metadata": {},
   "source": [
    "# Masked (causal) attention"
   ]
  },
  {
   "cell_type": "code",
   "execution_count": 22,
   "metadata": {},
   "outputs": [
    {
     "name": "stdout",
     "output_type": "stream",
     "text": [
      "tensor([[0.1921, 0.1646, 0.1652, 0.1550, 0.1721, 0.1510],\n",
      "        [0.2041, 0.1659, 0.1662, 0.1496, 0.1665, 0.1477],\n",
      "        [0.2036, 0.1659, 0.1662, 0.1498, 0.1664, 0.1480],\n",
      "        [0.1869, 0.1667, 0.1668, 0.1571, 0.1661, 0.1564],\n",
      "        [0.1830, 0.1669, 0.1670, 0.1588, 0.1658, 0.1585],\n",
      "        [0.1935, 0.1663, 0.1666, 0.1542, 0.1666, 0.1529]],\n",
      "       grad_fn=<SoftmaxBackward0>)\n"
     ]
    }
   ],
   "source": [
    "queries = sa_v2.W_query(inputs)  # 1\n",
    "keys = sa_v2.W_key(inputs)\n",
    "attn_scores = queries @ keys.T\n",
    "attn_weights = torch.softmax(attn_scores / keys.shape[-1] ** 0.5, dim=-1)\n",
    "print(attn_weights)"
   ]
  },
  {
   "cell_type": "code",
   "execution_count": 24,
   "metadata": {},
   "outputs": [
    {
     "name": "stdout",
     "output_type": "stream",
     "text": [
      "tensor([[1., 1., 1., 1., 1., 1.],\n",
      "        [1., 1., 1., 1., 1., 1.],\n",
      "        [1., 1., 1., 1., 1., 1.],\n",
      "        [1., 1., 1., 1., 1., 1.],\n",
      "        [1., 1., 1., 1., 1., 1.],\n",
      "        [1., 1., 1., 1., 1., 1.]])\n",
      "tensor([[1., 0., 0., 0., 0., 0.],\n",
      "        [1., 1., 0., 0., 0., 0.],\n",
      "        [1., 1., 1., 0., 0., 0.],\n",
      "        [1., 1., 1., 1., 0., 0.],\n",
      "        [1., 1., 1., 1., 1., 0.],\n",
      "        [1., 1., 1., 1., 1., 1.]])\n"
     ]
    }
   ],
   "source": [
    "context_length = attn_scores.shape[0]\n",
    "ones = torch.ones(context_length, context_length)\n",
    "mask_simple = torch.tril(ones)\n",
    "print(ones)\n",
    "print(mask_simple)"
   ]
  },
  {
   "cell_type": "code",
   "execution_count": 30,
   "metadata": {},
   "outputs": [
    {
     "name": "stdout",
     "output_type": "stream",
     "text": [
      "tensor([[0.1921, 0.0000, 0.0000, 0.0000, 0.0000, 0.0000],\n",
      "        [0.2041, 0.1659, 0.0000, 0.0000, 0.0000, 0.0000],\n",
      "        [0.2036, 0.1659, 0.1662, 0.0000, 0.0000, 0.0000],\n",
      "        [0.1869, 0.1667, 0.1668, 0.1571, 0.0000, 0.0000],\n",
      "        [0.1830, 0.1669, 0.1670, 0.1588, 0.1658, 0.0000],\n",
      "        [0.1935, 0.1663, 0.1666, 0.1542, 0.1666, 0.1529]],\n",
      "       grad_fn=<MulBackward0>)\n"
     ]
    }
   ],
   "source": [
    "masked_simple = attn_weights * mask_simple  # elementwise mult.\n",
    "print(masked_simple)"
   ]
  },
  {
   "cell_type": "code",
   "execution_count": 42,
   "metadata": {},
   "outputs": [
    {
     "name": "stdout",
     "output_type": "stream",
     "text": [
      "tensor([[1.0000, 0.0000, 0.0000, 0.0000, 0.0000, 0.0000],\n",
      "        [0.5517, 0.4483, 0.0000, 0.0000, 0.0000, 0.0000],\n",
      "        [0.3800, 0.3097, 0.3103, 0.0000, 0.0000, 0.0000],\n",
      "        [0.2758, 0.2460, 0.2462, 0.2319, 0.0000, 0.0000],\n",
      "        [0.2175, 0.1983, 0.1984, 0.1888, 0.1971, 0.0000],\n",
      "        [0.1935, 0.1663, 0.1666, 0.1542, 0.1666, 0.1529]],\n",
      "       grad_fn=<DivBackward0>)\n"
     ]
    }
   ],
   "source": [
    "# keepdim = True is going to keep row_sums n * 1 tensor instead of n\n",
    "# if you don't do that masked_simple / row_sums will divide each col\n",
    "# by the sum instead of row. That is weird (?)\n",
    "\n",
    "row_sums = masked_simple.sum(dim=-1, keepdim=True)\n",
    "masked_simple_norm = masked_simple / row_sums\n",
    "print(masked_simple_norm)"
   ]
  },
  {
   "cell_type": "code",
   "execution_count": 47,
   "metadata": {},
   "outputs": [
    {
     "name": "stdout",
     "output_type": "stream",
     "text": [
      "tensor([[1., 1., 1., 1., 1., 1.],\n",
      "        [0., 1., 1., 1., 1., 1.],\n",
      "        [0., 0., 1., 1., 1., 1.],\n",
      "        [0., 0., 0., 1., 1., 1.],\n",
      "        [0., 0., 0., 0., 1., 1.],\n",
      "        [0., 0., 0., 0., 0., 1.]])\n",
      "tensor([[0., 1., 1., 1., 1., 1.],\n",
      "        [0., 0., 1., 1., 1., 1.],\n",
      "        [0., 0., 0., 1., 1., 1.],\n",
      "        [0., 0., 0., 0., 1., 1.],\n",
      "        [0., 0., 0., 0., 0., 1.],\n",
      "        [0., 0., 0., 0., 0., 0.]])\n",
      "tensor([[0., 0., 1., 1., 1., 1.],\n",
      "        [0., 0., 0., 1., 1., 1.],\n",
      "        [0., 0., 0., 0., 1., 1.],\n",
      "        [0., 0., 0., 0., 0., 1.],\n",
      "        [0., 0., 0., 0., 0., 0.],\n",
      "        [0., 0., 0., 0., 0., 0.]])\n"
     ]
    }
   ],
   "source": [
    "print(torch.triu(torch.ones(context_length, context_length), diagonal=0))\n",
    "print(torch.triu(torch.ones(context_length, context_length), diagonal=1))\n",
    "print(torch.triu(torch.ones(context_length, context_length), diagonal=2))"
   ]
  },
  {
   "cell_type": "code",
   "execution_count": 48,
   "metadata": {},
   "outputs": [
    {
     "name": "stdout",
     "output_type": "stream",
     "text": [
      "tensor([[0.2899,   -inf,   -inf,   -inf,   -inf,   -inf],\n",
      "        [0.4656, 0.1723,   -inf,   -inf,   -inf,   -inf],\n",
      "        [0.4594, 0.1703, 0.1731,   -inf,   -inf,   -inf],\n",
      "        [0.2642, 0.1024, 0.1036, 0.0186,   -inf,   -inf],\n",
      "        [0.2183, 0.0874, 0.0882, 0.0177, 0.0786,   -inf],\n",
      "        [0.3408, 0.1270, 0.1290, 0.0198, 0.1290, 0.0078]],\n",
      "       grad_fn=<MaskedFillBackward0>)\n"
     ]
    }
   ],
   "source": [
    "mask = torch.triu(torch.ones(context_length, context_length), diagonal=1)\n",
    "masked = attn_scores.masked_fill(mask.bool(), -torch.inf)\n",
    "print(masked)"
   ]
  },
  {
   "cell_type": "code",
   "execution_count": 49,
   "metadata": {},
   "outputs": [
    {
     "name": "stdout",
     "output_type": "stream",
     "text": [
      "tensor([[1.0000, 0.0000, 0.0000, 0.0000, 0.0000, 0.0000],\n",
      "        [0.5517, 0.4483, 0.0000, 0.0000, 0.0000, 0.0000],\n",
      "        [0.3800, 0.3097, 0.3103, 0.0000, 0.0000, 0.0000],\n",
      "        [0.2758, 0.2460, 0.2462, 0.2319, 0.0000, 0.0000],\n",
      "        [0.2175, 0.1983, 0.1984, 0.1888, 0.1971, 0.0000],\n",
      "        [0.1935, 0.1663, 0.1666, 0.1542, 0.1666, 0.1529]],\n",
      "       grad_fn=<SoftmaxBackward0>)\n"
     ]
    }
   ],
   "source": [
    "attn_weights = torch.softmax(masked / keys.shape[-1] ** 0.5, dim=1)\n",
    "print(attn_weights)"
   ]
  },
  {
   "cell_type": "markdown",
   "metadata": {},
   "source": [
    "**A. Dropout**"
   ]
  },
  {
   "cell_type": "code",
   "execution_count": 56,
   "metadata": {},
   "outputs": [
    {
     "name": "stdout",
     "output_type": "stream",
     "text": [
      "tensor([[2., 2., 0., 2., 2., 0.],\n",
      "        [0., 0., 0., 2., 0., 2.],\n",
      "        [2., 2., 2., 2., 0., 2.],\n",
      "        [0., 2., 2., 0., 0., 2.],\n",
      "        [0., 2., 0., 2., 0., 2.],\n",
      "        [0., 2., 2., 2., 2., 0.]])\n"
     ]
    }
   ],
   "source": [
    "torch.manual_seed(123)\n",
    "dropout = torch.nn.Dropout(0.5)  # 1\n",
    "example = torch.ones(6, 6)  # 2\n",
    "print(dropout(example))"
   ]
  },
  {
   "cell_type": "markdown",
   "metadata": {},
   "source": [
    "**B. Final formula**"
   ]
  },
  {
   "cell_type": "code",
   "execution_count": 57,
   "metadata": {},
   "outputs": [
    {
     "name": "stdout",
     "output_type": "stream",
     "text": [
      "torch.Size([2, 6, 3])\n"
     ]
    }
   ],
   "source": [
    "batch = torch.stack((inputs, inputs), dim=0)\n",
    "print(batch.shape)"
   ]
  },
  {
   "cell_type": "code",
   "execution_count": 85,
   "metadata": {},
   "outputs": [
    {
     "name": "stdout",
     "output_type": "stream",
     "text": [
      "Original tensor shape: torch.Size([2, 3, 4])\n",
      "Mask shape: torch.Size([3, 4])\n",
      "Mask: tensor([[False, False, False, False],\n",
      "        [ True,  True,  True,  True],\n",
      "        [False, False, False, False]])\n",
      "\n",
      "Result tensor:\n",
      "tensor([[[ 1.,  1.,  1.,  1.],\n",
      "         [-2., -2., -2., -2.],\n",
      "         [ 1.,  1.,  1.,  1.]],\n",
      "\n",
      "        [[ 1.,  1.,  1.,  1.],\n",
      "         [-2., -2., -2., -2.],\n",
      "         [ 1.,  1.,  1.,  1.]]])\n"
     ]
    }
   ],
   "source": [
    "import torch\n",
    "\n",
    "# Create a 3D tensor of shape [2, 3, 4]\n",
    "t = torch.ones(2, 3, 4)\n",
    "print(\"Original tensor shape:\", t.shape)\n",
    "\n",
    "# Create a 2D mask of shape [3, 4]\n",
    "# This is smaller than the tensor but can be broadcast\n",
    "mask = torch.zeros(3, 4, dtype=torch.bool)\n",
    "mask[1, :] = True  # Make the middle row True\n",
    "print(\"Mask shape:\", mask.shape)\n",
    "print(\"Mask:\", mask)\n",
    "\n",
    "# Apply the mask - it will be broadcast across the first dimension\n",
    "result = t.masked_fill(mask, -2)\n",
    "print(\"\\nResult tensor:\")\n",
    "print(result)"
   ]
  },
  {
   "cell_type": "code",
   "execution_count": 72,
   "metadata": {},
   "outputs": [],
   "source": [
    "class CausalAttention(nn.Module):\n",
    "    def __init__(\n",
    "        self,\n",
    "        d_in: int,\n",
    "        d_out: int,\n",
    "        context_length: int,\n",
    "        dropout: float,\n",
    "        qkv_bias: bool = False,\n",
    "    ) -> None:\n",
    "        super().__init__()\n",
    "        self.d_out = d_out\n",
    "        self.W_query = nn.Linear(d_in, d_out, bias=qkv_bias)\n",
    "        self.W_key = nn.Linear(d_in, d_out, bias=qkv_bias)\n",
    "        self.W_value = nn.Linear(d_in, d_out, bias=qkv_bias)\n",
    "        self.dropout = nn.Dropout(dropout)  # 1\n",
    "        self.register_buffer(\n",
    "            \"mask\", torch.triu(torch.ones(context_length, context_length), diagonal=1)\n",
    "        )  # 2\n",
    "        self.mask: torch.Tensor  # typehint for register_buffer(...)\n",
    "\n",
    "    def forward(self, x: torch.Tensor) -> torch.Tensor:\n",
    "        b, num_tokens, d_in = x.shape  # 3\n",
    "        _, context_length = self.mask.shape\n",
    "        assert num_tokens <= context_length\n",
    "        keys: torch.Tensor = self.W_key(x)\n",
    "        queries: torch.Tensor = self.W_query(x)\n",
    "        values: torch.Tensor = self.W_value(x)\n",
    "\n",
    "        attn_scores = queries @ keys.transpose(1, 2)\n",
    "        # num_tokens is used because the input might be smaller\n",
    "        # than total context_len\n",
    "        # Note: masked fill does broadcast, so dims don't have to match.\n",
    "        # print(\"Shape of attn_scores:\", attn_scores.shape)\n",
    "        attn_scores.masked_fill_(  # 4\n",
    "            self.mask.bool()[:num_tokens, :num_tokens], -torch.inf\n",
    "        )\n",
    "        attn_weights = torch.softmax(attn_scores / keys.shape[-1] ** 0.5, dim=-1)\n",
    "        attn_weights = self.dropout(attn_weights)\n",
    "\n",
    "        context_vec = attn_weights @ values\n",
    "        return context_vec"
   ]
  },
  {
   "cell_type": "code",
   "execution_count": 73,
   "metadata": {},
   "outputs": [
    {
     "name": "stdout",
     "output_type": "stream",
     "text": [
      "Shape of attn_scores: torch.Size([2, 6, 6])\n",
      "context_vecs.shape: torch.Size([2, 6, 2])\n"
     ]
    }
   ],
   "source": [
    "torch.manual_seed(123)\n",
    "context_length = batch.shape[1]\n",
    "ca = CausalAttention(d_in, d_out, context_length, 0.0)\n",
    "context_vecs = ca(batch)\n",
    "print(\"context_vecs.shape:\", context_vecs.shape)"
   ]
  },
  {
   "cell_type": "markdown",
   "metadata": {},
   "source": [
    "# Multi-head attention"
   ]
  },
  {
   "cell_type": "markdown",
   "metadata": {},
   "source": [
    "**A. Basic implementation with for**"
   ]
  },
  {
   "cell_type": "code",
   "execution_count": 66,
   "metadata": {},
   "outputs": [],
   "source": [
    "class MultiHeadAttentionWrapper(nn.Module):\n",
    "    def __init__(self, d_in, d_out, context_length, dropout, num_heads, qkv_bias=False):\n",
    "        super().__init__()\n",
    "        self.heads = nn.ModuleList(\n",
    "            [\n",
    "                CausalAttention(d_in, d_out, context_length, dropout, qkv_bias)\n",
    "                for _ in range(num_heads)\n",
    "            ]\n",
    "        )\n",
    "\n",
    "    def forward(self, x):\n",
    "        return torch.cat([head(x) for head in self.heads], dim=-1)"
   ]
  },
  {
   "cell_type": "code",
   "execution_count": 67,
   "metadata": {},
   "outputs": [
    {
     "name": "stdout",
     "output_type": "stream",
     "text": [
      "context_vecs.shape: torch.Size([2, 6, 4])\n",
      "tensor([[[-0.4519,  0.2216,  0.4772,  0.1063],\n",
      "         [-0.5874,  0.0058,  0.5891,  0.3257],\n",
      "         [-0.6300, -0.0632,  0.6202,  0.3860],\n",
      "         [-0.5675, -0.0843,  0.5478,  0.3589],\n",
      "         [-0.5526, -0.0981,  0.5321,  0.3428],\n",
      "         [-0.5299, -0.1081,  0.5077,  0.3493]],\n",
      "\n",
      "        [[-0.4519,  0.2216,  0.4772,  0.1063],\n",
      "         [-0.5874,  0.0058,  0.5891,  0.3257],\n",
      "         [-0.6300, -0.0632,  0.6202,  0.3860],\n",
      "         [-0.5675, -0.0843,  0.5478,  0.3589],\n",
      "         [-0.5526, -0.0981,  0.5321,  0.3428],\n",
      "         [-0.5299, -0.1081,  0.5077,  0.3493]]], grad_fn=<CatBackward0>)\n"
     ]
    }
   ],
   "source": [
    "torch.manual_seed(123)\n",
    "context_length = batch.shape[1]  # This is the number of tokens\n",
    "d_in, d_out = 3, 2\n",
    "mha = MultiHeadAttentionWrapper(d_in, d_out, context_length, 0.0, num_heads=2)\n",
    "context_vecs = mha(batch)\n",
    "\n",
    "print(\"context_vecs.shape:\", context_vecs.shape)\n",
    "print(context_vecs)"
   ]
  },
  {
   "cell_type": "markdown",
   "metadata": {},
   "source": [
    "**B. torch.view**"
   ]
  },
  {
   "cell_type": "code",
   "execution_count": 91,
   "metadata": {},
   "outputs": [
    {
     "name": "stdout",
     "output_type": "stream",
     "text": [
      "Original tensor: tensor([ 1,  2,  3,  4,  5,  6,  7,  8,  9, 10, 11, 12])\n",
      "Original shape: torch.Size([12])\n"
     ]
    }
   ],
   "source": [
    "import torch\n",
    "\n",
    "# Create a tensor\n",
    "x = torch.tensor([1, 2, 3, 4, 5, 6, 7, 8, 9, 10, 11, 12])\n",
    "print(\"Original tensor:\", x)\n",
    "print(\"Original shape:\", x.shape)"
   ]
  },
  {
   "cell_type": "code",
   "execution_count": 92,
   "metadata": {},
   "outputs": [
    {
     "name": "stdout",
     "output_type": "stream",
     "text": [
      "\n",
      "Reshaped to 3x4:\n",
      "tensor([[ 1,  2,  3,  4],\n",
      "        [ 5,  6,  7,  8],\n",
      "        [ 9, 10, 11, 12]])\n",
      "New shape: torch.Size([3, 4])\n"
     ]
    }
   ],
   "source": [
    "# Reshape to 3x4 matrix\n",
    "x_reshaped = x.view(3, 4)\n",
    "print(\"\\nReshaped to 3x4:\")\n",
    "print(x_reshaped)\n",
    "print(\"New shape:\", x_reshaped.shape)"
   ]
  },
  {
   "cell_type": "code",
   "execution_count": 88,
   "metadata": {},
   "outputs": [
    {
     "name": "stdout",
     "output_type": "stream",
     "text": [
      "\n",
      "Reshaped to 2x2x3:\n",
      "tensor([[[ 1,  2,  3],\n",
      "         [ 4,  5,  6]],\n",
      "\n",
      "        [[ 7,  8,  9],\n",
      "         [10, 11, 12]]])\n",
      "New shape: torch.Size([2, 2, 3])\n"
     ]
    }
   ],
   "source": [
    "# Reshape to 2x2x3\n",
    "x_3d = x.view(2, 2, 3)\n",
    "print(\"\\nReshaped to 2x2x3:\")\n",
    "print(x_3d)\n",
    "print(\"New shape:\", x_3d.shape)"
   ]
  },
  {
   "cell_type": "code",
   "execution_count": 101,
   "metadata": {},
   "outputs": [
    {
     "name": "stdout",
     "output_type": "stream",
     "text": [
      "\n",
      "Reshaped with automatic dimension:\n",
      "tensor([[[ 1,  2,  3],\n",
      "         [ 4,  5,  6]],\n",
      "\n",
      "        [[ 7,  8,  9],\n",
      "         [10, 11, 12]]])\n",
      "New shape: torch.Size([2, 2, 3])\n"
     ]
    }
   ],
   "source": [
    "# Use -1 to automatically infer one dimension\n",
    "x_auto = x.view(2, -1, 3)  # PyTorch will calculate the first dimension\n",
    "print(\"\\nReshaped with automatic dimension:\")\n",
    "print(x_auto)\n",
    "print(\"New shape:\", x_auto.shape)"
   ]
  },
  {
   "cell_type": "code",
   "execution_count": 90,
   "metadata": {},
   "outputs": [
    {
     "name": "stdout",
     "output_type": "stream",
     "text": [
      "\n",
      "Flattened tensor:\n",
      "tensor([ 1,  2,  3,  4,  5,  6,  7,  8,  9, 10, 11, 12])\n",
      "New shape: torch.Size([12])\n"
     ]
    }
   ],
   "source": [
    "# Flatten a tensor\n",
    "x_flat = x_3d.view(-1)  # Flatten to 1D\n",
    "print(\"\\nFlattened tensor:\")\n",
    "print(x_flat)\n",
    "print(\"New shape:\", x_flat.shape)"
   ]
  },
  {
   "cell_type": "code",
   "execution_count": 106,
   "metadata": {},
   "outputs": [
    {
     "name": "stdout",
     "output_type": "stream",
     "text": [
      "contiguous tensor:\n",
      "tensor([[[ 1,  2,  3],\n",
      "         [ 4,  5,  6]],\n",
      "\n",
      "        [[ 7,  8,  9],\n",
      "         [10, 11, 12]]])\n",
      "New shape: torch.Size([12])\n"
     ]
    }
   ],
   "source": [
    "# contiguous a tensor\n",
    "x_contig = x_3d.contiguous()\n",
    "print(\"contiguous tensor:\")\n",
    "print(x_contig)\n",
    "print(\"New shape:\", x_flat.shape)"
   ]
  },
  {
   "cell_type": "markdown",
   "metadata": {},
   "source": [
    "**C. How nn.Linear changes the dimension**"
   ]
  },
  {
   "cell_type": "code",
   "execution_count": 102,
   "metadata": {},
   "outputs": [
    {
     "name": "stdout",
     "output_type": "stream",
     "text": [
      "Weight shape: torch.Size([5, 3])\n",
      "Bias shape: torch.Size([5])\n",
      "\n",
      "Input x1 shape: torch.Size([3])\n",
      "Output y1 shape: torch.Size([5])\n",
      "\n",
      "Input x2 shape: torch.Size([10, 3])\n",
      "Output y2 shape: torch.Size([10, 5])\n",
      "\n",
      "Input x3 shape: torch.Size([4, 6, 3])\n",
      "Output y3 shape: torch.Size([4, 6, 5])\n",
      "\n",
      "Manual calculation shape: torch.Size([5])\n",
      "Are results equal? True\n"
     ]
    }
   ],
   "source": [
    "import torch\n",
    "import torch.nn as nn\n",
    "\n",
    "# Create a simple linear layer\n",
    "in_features = 3\n",
    "out_features = 5\n",
    "linear = nn.Linear(in_features, out_features)\n",
    "\n",
    "# Print the shapes of the weights and bias\n",
    "print(\n",
    "    f\"Weight shape: {linear.weight.shape}\"\n",
    ")  # Should be (out_features, in_features) = (5, 3)\n",
    "print(f\"Bias shape: {linear.bias.shape}\")  # Should be (out_features) = (5)\n",
    "\n",
    "# Example 1: Single vector input\n",
    "x1 = torch.randn(in_features)  # Shape: (3)\n",
    "print(f\"\\nInput x1 shape: {x1.shape}\")\n",
    "\n",
    "y1 = linear(x1)  # Apply linear transformation\n",
    "print(f\"Output y1 shape: {y1.shape}\")  # Should be (5)\n",
    "\n",
    "# Example 2: Batch of vectors\n",
    "x2 = torch.randn(10, in_features)  # Shape: (10, 3) - batch of 10 vectors\n",
    "print(f\"\\nInput x2 shape: {x2.shape}\")\n",
    "\n",
    "y2 = linear(x2)  # Apply linear transformation\n",
    "print(f\"Output y2 shape: {y2.shape}\")  # Should be (10, 5)\n",
    "\n",
    "# Example 3: Multi-dimensional input\n",
    "x3 = torch.randn(4, 6, in_features)  # Shape: (4, 6, 3) - 4 batches of 6 vectors each\n",
    "print(f\"\\nInput x3 shape: {x3.shape}\")\n",
    "\n",
    "y3 = linear(x3)  # Apply linear transformation\n",
    "print(f\"Output y3 shape: {y3.shape}\")  # Should be (4, 6, 5)\n",
    "\n",
    "# Let's manually verify the transformation for a single vector\n",
    "manual_result = x1 @ linear.weight.T + linear.bias\n",
    "print(f\"\\nManual calculation shape: {manual_result.shape}\")  # Should be (5)\n",
    "print(f\"Are results equal? {torch.allclose(y1, manual_result)}\")"
   ]
  },
  {
   "cell_type": "markdown",
   "metadata": {},
   "source": [
    "**D. Vectorized implementation**"
   ]
  },
  {
   "cell_type": "code",
   "execution_count": 108,
   "metadata": {},
   "outputs": [],
   "source": [
    "# Same as Andrei-Karpathi's video\n",
    "class MultiHeadAttention(nn.Module):\n",
    "    \"\"\"\n",
    "    #1 Reduces the projection dim to match the desired output dim\n",
    "    #2 Uses a Linear layer to combine head outputs\n",
    "    #3 Tensor shape: (b, num_tokens, d_out)\n",
    "    #4 We implicitly split the matrix by adding a num_heads dimension. Then we unroll the last dim: (b, num_tokens, d_out) -&gt; (b, num_tokens, num_heads, head_dim).\n",
    "    #5 Transposes from shape (b, num_tokens, num_heads, head_dim) to (b, num_heads, num_tokens, head_dim)\n",
    "    #6 Computes dot product for each head\n",
    "    #7 Masks truncated to the number of tokens\n",
    "    #8 Uses the mask to fill attention scores\n",
    "    #9 Tensor shape: (b, num_tokens, n_heads, head_dim)\n",
    "    #10 Combines heads, where self.d_out = self.num_heads * self.head_dim\n",
    "    #11 Adds an optional linear projection”\n",
    "    \"\"\"\n",
    "\n",
    "    def __init__(self, d_in, d_out, context_length, dropout, num_heads, qkv_bias=False):\n",
    "        super().__init__()\n",
    "        assert d_out % num_heads == 0, \"d_out must be divisible by num_heads\"\n",
    "\n",
    "        self.d_out = d_out\n",
    "        self.num_heads = num_heads\n",
    "        self.head_dim = d_out // num_heads  # 1\n",
    "        self.W_query = nn.Linear(d_in, d_out, bias=qkv_bias)\n",
    "        self.W_key = nn.Linear(d_in, d_out, bias=qkv_bias)\n",
    "        self.W_value = nn.Linear(d_in, d_out, bias=qkv_bias)\n",
    "        self.out_proj = nn.Linear(d_out, d_out)  # 2\n",
    "        self.dropout = nn.Dropout(dropout)\n",
    "        self.register_buffer(\n",
    "            \"mask\", torch.triu(torch.ones(context_length, context_length), diagonal=1)\n",
    "        )\n",
    "\n",
    "    def forward(self, x):\n",
    "        b, num_tokens, d_in = x.shape\n",
    "        keys = self.W_key(x)  # 3\n",
    "        queries = self.W_query(x)  # 3\n",
    "        values = self.W_value(x)  # 3\n",
    "\n",
    "        # b * num_tokens * d_out -> b * num_tokens * n_heads * head_dim\n",
    "        keys = keys.view(b, num_tokens, self.num_heads, self.head_dim)  # 4\n",
    "        values = values.view(b, num_tokens, self.num_heads, self.head_dim)\n",
    "        queries = queries.view(b, num_tokens, self.num_heads, self.head_dim)\n",
    "\n",
    "        # b * num_tokens * n_heads * head_dim -> b * n_heads * num_tokens * head_dim\n",
    "        keys = keys.transpose(1, 2)  # 5\n",
    "        queries = queries.transpose(1, 2)  # 5\n",
    "        values = values.transpose(1, 2)  # 5\n",
    "\n",
    "        # queries: b * n_heads * num_tokens * head_dim\n",
    "        # keys.T :   b * n_heads * head_dim * num_tokens\n",
    "        # =>\n",
    "        # attn_scores: b * n_heads * num_tokens * num_tokens\n",
    "        attn_scores = queries @ keys.transpose(2, 3)  # 6\n",
    "\n",
    "        mask_bool = self.mask.bool()[:num_tokens, :num_tokens]  # 7\n",
    "        attn_scores.masked_fill_(mask_bool, -torch.inf)  # 8\n",
    "\n",
    "        attn_weights = torch.softmax(attn_scores / keys.shape[-1] ** 0.5, dim=-1)\n",
    "        attn_weights = self.dropout(attn_weights)\n",
    "\n",
    "        # attn_weights: b * n_heads * num_tokens * num_tokens\n",
    "        # values      : b * n_heads * num_tokens * head_dim\n",
    "        # =>\n",
    "        # context_vec  : b * n_heads * num_tokens * head_dim\n",
    "        # =>\n",
    "        # context_vec  : b * num_tokens * n_heads * head_dim\n",
    "        context_vec = (attn_weights @ values).transpose(1, 2)  # 9\n",
    "\n",
    "        # contiguous arranges the memory in a good shape again\n",
    "        # required by view.\n",
    "        # before: b * num_tokens * n_heads * head_dim\n",
    "        # after:  b * num_tokens * d_out\n",
    "        context_vec = context_vec.contiguous().view(b, num_tokens, self.d_out)  # 10\n",
    "        # in karpathy's video, he also added a dropout here.\n",
    "        context_vec = self.out_proj(context_vec)  # 11\n",
    "        return context_vec"
   ]
  },
  {
   "cell_type": "code",
   "execution_count": 123,
   "metadata": {},
   "outputs": [
    {
     "name": "stdout",
     "output_type": "stream",
     "text": [
      "context_vecs.shape: torch.Size([2, 6, 2])\n",
      "tensor([[[0.3190, 0.4858],\n",
      "         [0.2943, 0.3897],\n",
      "         [0.2856, 0.3593],\n",
      "         [0.2693, 0.3873],\n",
      "         [0.2639, 0.3928],\n",
      "         [0.2575, 0.4028]],\n",
      "\n",
      "        [[0.3190, 0.4858],\n",
      "         [0.2943, 0.3897],\n",
      "         [0.2856, 0.3593],\n",
      "         [0.2693, 0.3873],\n",
      "         [0.2639, 0.3928],\n",
      "         [0.2575, 0.4028]]], grad_fn=<ViewBackward0>)\n"
     ]
    }
   ],
   "source": [
    "torch.manual_seed(123)\n",
    "batch_size, context_length, d_in = batch.shape\n",
    "num_heads = 2\n",
    "d_out = 2  # must be divisible by num_heads\n",
    "mha = MultiHeadAttention(d_in, d_out, context_length, 0.0, num_heads=num_heads)\n",
    "context_vecs = mha(batch)\n",
    "print(\"context_vecs.shape:\", context_vecs.shape)\n",
    "print(context_vecs)"
   ]
  }
 ],
 "metadata": {
  "kernelspec": {
   "display_name": "Python 3 (ipykernel)",
   "language": "python",
   "name": "python3"
  },
  "language_info": {
   "codemirror_mode": {
    "name": "ipython",
    "version": 3
   },
   "file_extension": ".py",
   "mimetype": "text/x-python",
   "name": "python",
   "nbconvert_exporter": "python",
   "pygments_lexer": "ipython3",
   "version": "3.12.8"
  }
 },
 "nbformat": 4,
 "nbformat_minor": 2
}
