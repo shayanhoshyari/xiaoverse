{
 "cells": [
  {
   "cell_type": "markdown",
   "metadata": {},
   "source": [
    "# Simplified Attention"
   ]
  },
  {
   "cell_type": "code",
   "execution_count": 1,
   "metadata": {},
   "outputs": [
    {
     "name": "stderr",
     "output_type": "stream",
     "text": [
      "/private/var/tmp/_bazel_hoshyari/e7198472d5e413c18f06cfb8f623b4c8/execroot/_main/bazel-out/darwin_arm64-dbg/bin/llm_from_scratch/c3/notebook.runfiles/rules_python++pip+pypi_313_torch/site-packages/torch/_subclasses/functional_tensor.py:275: UserWarning: Failed to initialize NumPy: No module named 'numpy' (Triggered internally at /Users/runner/work/pytorch/pytorch/pytorch/torch/csrc/utils/tensor_numpy.cpp:81.)\n",
      "  cpu = _conversion_method_template(device=torch.device(\"cpu\"))\n"
     ]
    }
   ],
   "source": [
    "import torch\n",
    "\n",
    "inputs = torch.tensor(\n",
    "    [\n",
    "        [0.43, 0.15, 0.89],  # Your     (x^1)\n",
    "        [0.55, 0.87, 0.66],  # journey  (x^2)\n",
    "        [0.57, 0.85, 0.64],  # starts   (x^3)\n",
    "        [0.22, 0.58, 0.33],  # with     (x^4)\n",
    "        [0.77, 0.25, 0.10],  # one      (x^5)\n",
    "        [0.05, 0.80, 0.55],\n",
    "    ]  # step     (x^6)\n",
    ")"
   ]
  },
  {
   "cell_type": "code",
   "execution_count": 2,
   "metadata": {},
   "outputs": [
    {
     "name": "stdout",
     "output_type": "stream",
     "text": [
      "query: tensor([0.5500, 0.8700, 0.6600])\n",
      "x_0 : tensor([0.4300, 0.1500, 0.8900]), dot: 0.9544000625610352\n",
      "x_1 : tensor([0.5500, 0.8700, 0.6600]), dot: 1.4950001239776611\n",
      "x_2 : tensor([0.5700, 0.8500, 0.6400]), dot: 1.4754000902175903\n",
      "x_3 : tensor([0.2200, 0.5800, 0.3300]), dot: 0.8434000015258789\n",
      "x_4 : tensor([0.7700, 0.2500, 0.1000]), dot: 0.7070000171661377\n",
      "x_5 : tensor([0.0500, 0.8000, 0.5500]), dot: 1.0865000486373901\n",
      "tensor([0.9544, 1.4950, 1.4754, 0.8434, 0.7070, 1.0865])\n"
     ]
    }
   ],
   "source": [
    "query = inputs[1]  # 1\n",
    "attn_scores_2 = torch.empty(inputs.shape[0])\n",
    "print(f\"query: {query}\")\n",
    "for i, x_i in enumerate(inputs):\n",
    "    attn_scores_2[i] = x_i.dot(query)  # torch.dot(x_i, query) - both are same.\n",
    "    print(f\"x_{i} : {x_i}, dot: {attn_scores_2[i]}\")\n",
    "print(attn_scores_2)"
   ]
  },
  {
   "cell_type": "code",
   "execution_count": 3,
   "metadata": {},
   "outputs": [
    {
     "name": "stdout",
     "output_type": "stream",
     "text": [
      "Attention weights: tensor([0.1455, 0.2278, 0.2249, 0.1285, 0.1077, 0.1656])\n",
      "Sum: tensor(1.0000)\n"
     ]
    }
   ],
   "source": [
    "attn_weights_2_tmp = attn_scores_2 / attn_scores_2.sum()\n",
    "print(\"Attention weights:\", attn_weights_2_tmp)\n",
    "print(\"Sum:\", attn_weights_2_tmp.sum())"
   ]
  },
  {
   "cell_type": "code",
   "execution_count": 4,
   "metadata": {},
   "outputs": [
    {
     "name": "stdout",
     "output_type": "stream",
     "text": [
      "tensor([0.1385, 0.2379, 0.2333, 0.1240, 0.1082, 0.1581])\n"
     ]
    }
   ],
   "source": [
    "from llm_from_scratch.c3 import softmax_naive\n",
    "\n",
    "attn_weights_2 = softmax_naive(attn_scores_2)\n",
    "print(attn_weights_2)"
   ]
  },
  {
   "cell_type": "code",
   "execution_count": 5,
   "metadata": {},
   "outputs": [
    {
     "name": "stdout",
     "output_type": "stream",
     "text": [
      "tensor([0.4419, 0.6515, 0.5683])\n"
     ]
    }
   ],
   "source": [
    "query = inputs[1]\n",
    "context_vec_2 = torch.zeros(query.shape)\n",
    "for i, x_i in enumerate(inputs):\n",
    "    context_vec_2 += attn_weights_2[i] * x_i\n",
    "print(context_vec_2)"
   ]
  },
  {
   "cell_type": "code",
   "execution_count": 6,
   "metadata": {},
   "outputs": [
    {
     "name": "stdout",
     "output_type": "stream",
     "text": [
      "tensor([[0.9995, 0.9544, 0.9422, 0.4753, 0.4576, 0.6310],\n",
      "        [0.9544, 1.4950, 1.4754, 0.8434, 0.7070, 1.0865],\n",
      "        [0.9422, 1.4754, 1.4570, 0.8296, 0.7154, 1.0605],\n",
      "        [0.4753, 0.8434, 0.8296, 0.4937, 0.3474, 0.6565],\n",
      "        [0.4576, 0.7070, 0.7154, 0.3474, 0.6654, 0.2935],\n",
      "        [0.6310, 1.0865, 1.0605, 0.6565, 0.2935, 0.9450]])\n"
     ]
    }
   ],
   "source": [
    "attn_scores = torch.empty(6, 6)\n",
    "for i, x_i in enumerate(inputs):\n",
    "    for j, x_j in enumerate(inputs):\n",
    "        attn_scores[i, j] = x_i.dot(x_j)\n",
    "print(attn_scores)"
   ]
  },
  {
   "cell_type": "code",
   "execution_count": 7,
   "metadata": {},
   "outputs": [
    {
     "name": "stdout",
     "output_type": "stream",
     "text": [
      "tensor([[0.9995, 0.9544, 0.9422, 0.4753, 0.4576, 0.6310],\n",
      "        [0.9544, 1.4950, 1.4754, 0.8434, 0.7070, 1.0865],\n",
      "        [0.9422, 1.4754, 1.4570, 0.8296, 0.7154, 1.0605],\n",
      "        [0.4753, 0.8434, 0.8296, 0.4937, 0.3474, 0.6565],\n",
      "        [0.4576, 0.7070, 0.7154, 0.3474, 0.6654, 0.2935],\n",
      "        [0.6310, 1.0865, 1.0605, 0.6565, 0.2935, 0.9450]])\n",
      "tensor([[1.4561, 1.3876, 1.2876],\n",
      "        [1.3876, 2.5408, 1.9081],\n",
      "        [1.2876, 1.9081, 2.0587]])\n"
     ]
    }
   ],
   "source": [
    "# inputs: 6 x 3\n",
    "# (6x3) @ (3x6) = (6x6)\n",
    "attn_scores = inputs @ inputs.T\n",
    "print(attn_scores)\n",
    "\n",
    "# What if I use * instead of @\n",
    "# This just does element by element *\n",
    "# and because dimentions do not match, does not work.\n",
    "# experiment = inputs * inputs.T\n",
    "# print(experiment)\n",
    "\n",
    "# What happens if we do this the other way around?\n",
    "# (3x6) @ (6x3) = (3x3)\n",
    "experiment = inputs.T @ inputs\n",
    "print(experiment)"
   ]
  },
  {
   "cell_type": "code",
   "execution_count": 8,
   "metadata": {},
   "outputs": [
    {
     "name": "stdout",
     "output_type": "stream",
     "text": [
      "> a tensor([1, 2, 3])\n",
      "> b tensor([1, 2, 3])\n",
      "> torch.stack(a, b) tensor([[1, 2, 3],\n",
      "        [4, 5, 7]])\n",
      "> c.T tensor([[1, 4],\n",
      "        [2, 5],\n",
      "        [3, 7]])\n",
      "> a.unsqueeze(0) tensor([[1, 2, 3]])\n",
      "> a.unsqueeze(1) tensor([[1],\n",
      "        [2],\n",
      "        [3]])\n",
      "> a.unsqueeze(0).T tensor([[1],\n",
      "        [2],\n",
      "        [3]])\n",
      "> a.unsqueeze(0).permute(0, 1) tensor([[1, 2, 3]])\n",
      "> a[None, :] tensor([[1, 2, 3]])\n",
      "> a[:, None] tensor([[1],\n",
      "        [2],\n",
      "        [3]])\n",
      "> a[:, None, None] tensor([[[1],\n",
      "         [2],\n",
      "         [3]]])\n",
      "> a*b tensor([ 4, 10, 21])\n",
      "> a@b tensor(35)\n"
     ]
    }
   ],
   "source": [
    "a = torch.tensor([1, 2, 3])\n",
    "b = torch.tensor([4, 5, 7])\n",
    "print(\"> a\", a)\n",
    "print(\"> b\", a)\n",
    "\n",
    "# Stack will add another dimension\n",
    "c = torch.stack((a, b))\n",
    "print(\"> torch.stack(a, b)\", c)\n",
    "\n",
    "# .T only well defined for 2-D tensor\n",
    "print(\"> c.T\", c.T)\n",
    "\n",
    "# .T on other dimentions tensors is not defined and will be removed\n",
    "# in later releases.\n",
    "# You can, however, use torch.permuate(...)\n",
    "# print(\"> a.T\", a.T) -- in older torch just returns a\n",
    "\n",
    "# To actually turn a 1 dim row matrix to a colum matrix, you can\n",
    "# do this\n",
    "print(\"> a.unsqueeze(0)\", a.unsqueeze(0))\n",
    "print(\"> a.unsqueeze(1)\", a.unsqueeze(1))\n",
    "print(\"> a.unsqueeze(0).T\", a.unsqueeze(0).T)\n",
    "print(\"> a.unsqueeze(0).permute(0, 1)\", a.unsqueeze(0).permute(0, 1))\n",
    "# print(\"> a.unsqueeze(2)\", a.unsqueeze(2)) -- this fails.\n",
    "print(\"> a[None, :]\", a[None, :])\n",
    "print(\"> a[:, None]\", a[:, None])\n",
    "print(\"> a[:, None, None]\", a[None, :, None])\n",
    "\n",
    "\n",
    "print(\"> a*b\", a * b)\n",
    "\n",
    "# What does a.T or b.T do?\n",
    "\n",
    "# This gives s\n",
    "\n",
    "# What does @ do exactly?\n",
    "print(\"> a@b\", a @ b)"
   ]
  },
  {
   "cell_type": "code",
   "execution_count": 9,
   "metadata": {},
   "outputs": [
    {
     "name": "stdout",
     "output_type": "stream",
     "text": [
      "tensor([[0.2098, 0.2006, 0.1981, 0.1242, 0.1220, 0.1452],\n",
      "        [0.1385, 0.2379, 0.2333, 0.1240, 0.1082, 0.1581],\n",
      "        [0.1390, 0.2369, 0.2326, 0.1242, 0.1108, 0.1565],\n",
      "        [0.1435, 0.2074, 0.2046, 0.1462, 0.1263, 0.1720],\n",
      "        [0.1526, 0.1958, 0.1975, 0.1367, 0.1879, 0.1295],\n",
      "        [0.1385, 0.2184, 0.2128, 0.1420, 0.0988, 0.1896]])\n"
     ]
    }
   ],
   "source": [
    "attn_weights = torch.softmax(attn_scores, dim=1)\n",
    "print(attn_weights)"
   ]
  },
  {
   "cell_type": "code",
   "execution_count": 10,
   "metadata": {},
   "outputs": [
    {
     "name": "stdout",
     "output_type": "stream",
     "text": [
      "tensor([[0.4421, 0.5931, 0.5790],\n",
      "        [0.4419, 0.6515, 0.5683],\n",
      "        [0.4431, 0.6496, 0.5671],\n",
      "        [0.4304, 0.6298, 0.5510],\n",
      "        [0.4671, 0.5910, 0.5266],\n",
      "        [0.4177, 0.6503, 0.5645]])\n"
     ]
    }
   ],
   "source": [
    "all_context_vecs = attn_weights @ inputs\n",
    "print(all_context_vecs)\n",
    "\n",
    "# * In this simple case we did (X.X^T)X\n",
    "# * Where normally you do ( (QX) (KX)^T ) V X\n",
    "#\n",
    "# Why don't we just optimize for QK^T directory, rather than introducing\n",
    "# Q and K separately?"
   ]
  },
  {
   "cell_type": "markdown",
   "metadata": {},
   "source": [
    "# Self Attention"
   ]
  },
  {
   "cell_type": "code",
   "execution_count": 12,
   "metadata": {},
   "outputs": [],
   "source": [
    "x_2 = inputs[1]  # 1\n",
    "d_in = inputs.shape[1]  # 2\n",
    "d_out = 2  # 3"
   ]
  },
  {
   "cell_type": "code",
   "execution_count": 13,
   "metadata": {},
   "outputs": [],
   "source": [
    "torch.manual_seed(123)\n",
    "W_query = torch.nn.Parameter(torch.rand(d_in, d_out), requires_grad=False)\n",
    "W_key = torch.nn.Parameter(torch.rand(d_in, d_out), requires_grad=False)\n",
    "W_value = torch.nn.Parameter(torch.rand(d_in, d_out), requires_grad=False)"
   ]
  },
  {
   "cell_type": "code",
   "execution_count": 25,
   "metadata": {},
   "outputs": [
    {
     "name": "stdout",
     "output_type": "stream",
     "text": [
      "- Discovering the @ operator\n",
      "torch.Size([3])\n",
      "torch.Size([3, 2])\n",
      "tensor([[0.2961, 0.5166],\n",
      "        [0.2517, 0.6886],\n",
      "        [0.0740, 0.8665]])\n",
      "tensor([0.2961, 0.5166])\n",
      "tensor([0.2517, 0.6886])\n",
      "tensor([0.3701, 1.3831])\n",
      "\n",
      "- Compute Query_2\n",
      "tensor([0.4306, 1.4551])\n"
     ]
    }
   ],
   "source": [
    "print(\"- Discovering the @ operator\")\n",
    "print(x_2.shape)\n",
    "print(W_query.shape)\n",
    "print(W_query.data)\n",
    "\n",
    "print(torch.tensor([1.0, 0, 0]) @ W_query)\n",
    "print(torch.tensor([0.0, 1, 0]) @ W_query)\n",
    "print(torch.tensor([1.0, 0, 1]) @ W_query)\n",
    "\n",
    "print(\"\\n- Compute Query_2\")\n",
    "query_2 = x_2 @ W_query\n",
    "key_2 = x_2 @ W_key\n",
    "value_2 = x_2 @ W_value\n",
    "print(query_2)"
   ]
  },
  {
   "cell_type": "code",
   "execution_count": 47,
   "metadata": {},
   "outputs": [
    {
     "name": "stdout",
     "output_type": "stream",
     "text": [
      "keys.shape: torch.Size([6, 2])\n",
      "values.shape: torch.Size([6, 2])\n",
      "queries.shape: torch.Size([6, 2])\n"
     ]
    }
   ],
   "source": [
    "keys = inputs @ W_key\n",
    "values = inputs @ W_value\n",
    "queries = inputs @ W_query\n",
    "print(\"keys.shape:\", keys.shape)\n",
    "print(\"values.shape:\", values.shape)\n",
    "print(\"queries.shape:\", queries.shape)"
   ]
  },
  {
   "cell_type": "code",
   "execution_count": 48,
   "metadata": {},
   "outputs": [
    {
     "name": "stdout",
     "output_type": "stream",
     "text": [
      "tensor(1.8524)\n"
     ]
    }
   ],
   "source": [
    "keys_2 = keys[1]  # 1\n",
    "attn_score_22 = query_2.dot(keys_2)\n",
    "print(attn_score_22)"
   ]
  },
  {
   "cell_type": "code",
   "execution_count": 52,
   "metadata": {
    "vscode": {
     "languageId": "julia"
    }
   },
   "outputs": [
    {
     "name": "stdout",
     "output_type": "stream",
     "text": [
      "tensor([1.2705, 1.8524, 1.8111, 1.0795, 0.5577, 1.5440])\n",
      "tensor([1.2705, 1.8524, 1.8111, 1.0795, 0.5577, 1.5440])\n",
      "All weights tensor([[0.9231, 1.3545, 1.3241, 0.7910, 0.4032, 1.1330],\n",
      "        [1.2705, 1.8524, 1.8111, 1.0795, 0.5577, 1.5440],\n",
      "        [1.2544, 1.8284, 1.7877, 1.0654, 0.5508, 1.5238],\n",
      "        [0.6973, 1.0167, 0.9941, 0.5925, 0.3061, 0.8475],\n",
      "        [0.6114, 0.8819, 0.8626, 0.5121, 0.2707, 0.7307],\n",
      "        [0.8995, 1.3165, 1.2871, 0.7682, 0.3937, 1.0996]])\n",
      "All weights tensor([[0.9231, 1.2705, 1.2544, 0.6973, 0.6114, 0.8995],\n",
      "        [1.3545, 1.8524, 1.8284, 1.0167, 0.8819, 1.3165],\n",
      "        [1.3241, 1.8111, 1.7877, 0.9941, 0.8626, 1.2871],\n",
      "        [0.7910, 1.0795, 1.0654, 0.5925, 0.5121, 0.7682],\n",
      "        [0.4032, 0.5577, 0.5508, 0.3061, 0.2707, 0.3937],\n",
      "        [1.1330, 1.5440, 1.5238, 0.8475, 0.7307, 1.0996]])\n"
     ]
    }
   ],
   "source": [
    "attn_scores_2 = query_2 @ keys.T # (2) @ (2 * n)       #1\n",
    "print(attn_scores_2)\n",
    "\n",
    "print(keys @ query_2) # (n * 2) * 2 This gives the same result too\n",
    "\n",
    "# what if I try for everyone - this gives weight_ij = q_i * v_j\n",
    "# which is what we want, row i column j is (when sample i queries value of j) i.e. q_i * v_j\n",
    "print(\"All weights\", queries @ keys.T)\n",
    "\n",
    "# This does not work, unlike the 1 sample case -- 6x2 * 2x6\n",
    "# print(\"All weights\", keys @ queries)\n",
    "# This works, it is just transposed.\n",
    "# i.e. weights_ij = v_i * q_j\n",
    "print(\"All weights . T\", keys @ queries.T)\n"
   ]
  },
  {
   "cell_type": "code",
   "execution_count": 44,
   "metadata": {},
   "outputs": [
    {
     "name": "stdout",
     "output_type": "stream",
     "text": [
      "d_k=2\n",
      "attn_weights_2= tensor([0.1500, 0.2264, 0.2199, 0.1311, 0.0906, 0.1820])\n",
      "context_vec_2= tensor([0.3061, 0.8210])\n"
     ]
    }
   ],
   "source": [
    "d_k = keys.shape[-1]\n",
    "print(f\"d_k={d_k}\")\n",
    "attn_weights_2 = torch.softmax(attn_scores_2 / d_k**0.5, dim=-1)\n",
    "print(\"attn_weights_2=\", attn_weights_2)\n",
    "\n",
    "context_vec_2 = attn_weights_2 @ values\n",
    "print(\"context_vec_2=\", context_vec_2)"
   ]
  },
  {
   "cell_type": "code",
   "execution_count": null,
   "metadata": {},
   "outputs": [],
   "source": [
    "import torch.nn as nn\n",
    "import torch\n",
    "\n",
    "\n",
    "class SelfAttention_v1(nn.Module):\n",
    "    def __init__(self, d_in: int, d_out: int) -> None:\n",
    "        super().__init__()\n",
    "        self.W_query = nn.Parameter(torch.rand(d_in, d_out))\n",
    "        self.W_key = nn.Parameter(torch.rand(d_in, d_out))\n",
    "        self.W_value = nn.Parameter(torch.rand(d_in, d_out))\n",
    "\n",
    "    def forward(self, x: torch.Tensor) -> torch.Tensor:\n",
    "        keys = x @ self.W_key\n",
    "        queries = x @ self.W_query\n",
    "        values = x @ self.W_value\n",
    "        attn_scores = queries @ keys.T  # omega\n",
    "        attn_weights = torch.softmax(attn_scores / keys.shape[-1] ** 0.5, dim=-1)\n",
    "        context_vec = attn_weights @ values\n",
    "        return context_vec"
   ]
  }
 ],
 "metadata": {
  "kernelspec": {
   "display_name": "Python 3 (ipykernel)",
   "language": "python",
   "name": "python3"
  },
  "language_info": {
   "codemirror_mode": {
    "name": "ipython",
    "version": 3
   },
   "file_extension": ".py",
   "mimetype": "text/x-python",
   "name": "python",
   "nbconvert_exporter": "python",
   "pygments_lexer": "ipython3",
   "version": "3.13.0"
  }
 },
 "nbformat": 4,
 "nbformat_minor": 2
}
