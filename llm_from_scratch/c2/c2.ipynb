{
 "cells": [
  {
   "cell_type": "code",
   "execution_count": 37,
   "metadata": {},
   "outputs": [
    {
     "name": "stdout",
     "output_type": "stream",
     "text": [
      "Total number of character: 20479\n",
      "I HAD always thought Jack Gisburn rather a cheap genius--though a good fellow enough--so it was no \n"
     ]
    }
   ],
   "source": [
    "from pathlib import Path\n",
    "import llm_from_scratch.c2\n",
    "\n",
    "\n",
    "VERDICT_PATH = Path(llm_from_scratch.c2.__file__).with_name(\"the-verdict.txt\")\n",
    "\n",
    "RAW_VERDICT_TEXT = VERDICT_PATH.read_text()\n",
    "print(\"Total number of character:\", len(RAW_VERDICT_TEXT))\n",
    "print(RAW_VERDICT_TEXT[:99])"
   ]
  },
  {
   "cell_type": "code",
   "execution_count": 38,
   "metadata": {},
   "outputs": [
    {
     "name": "stdout",
     "output_type": "stream",
     "text": [
      "['Hello,', ' ', 'world.', ' ', 'This,', ' ', 'is', ' ', 'a', ' ', 'test.']\n"
     ]
    }
   ],
   "source": [
    "import re\n",
    "\n",
    "text = \"Hello, world. This, is a test.\"\n",
    "result = re.split(r\"(\\s)\", text)\n",
    "print(result)"
   ]
  },
  {
   "cell_type": "code",
   "execution_count": 39,
   "metadata": {},
   "outputs": [
    {
     "name": "stdout",
     "output_type": "stream",
     "text": [
      "['Hello', ',', '', ' ', 'world', '.', '', ' ', 'This', ',', '', ' ', 'is', ' ', 'a', ' ', 'test', '.', '']\n",
      "['Hello', ',', 'world', '.', 'This', ',', 'is', 'a', 'test', '.']\n"
     ]
    }
   ],
   "source": [
    "result = re.split(r\"([,.|\\s])\", text)\n",
    "print(result)\n",
    "\n",
    "result = [word for word in result if word.strip()]\n",
    "print(result)"
   ]
  },
  {
   "cell_type": "code",
   "execution_count": 40,
   "metadata": {},
   "outputs": [],
   "source": [
    "import re\n",
    "\n",
    "def tokenize(text : str) -> list[str]:\n",
    "    result = re.split(r'([,.:;?_!\"\\(\\)\\']|--|\\s)', text)\n",
    "    result = [item.strip() for item in result]\n",
    "    result = [item for item in result if item]\n",
    "    return result"
   ]
  },
  {
   "cell_type": "code",
   "execution_count": 41,
   "metadata": {},
   "outputs": [
    {
     "name": "stdout",
     "output_type": "stream",
     "text": [
      "['Hello', ',', 'world', '.', 'Is', 'this', '--', 'a', 'test', '?']\n"
     ]
    }
   ],
   "source": [
    "text = \"Hello, world. Is this-- a test?\"\n",
    "print(tokenize(text))"
   ]
  },
  {
   "cell_type": "code",
   "execution_count": 42,
   "metadata": {},
   "outputs": [
    {
     "name": "stdout",
     "output_type": "stream",
     "text": [
      "The verdict has this many tokens: 4690\n"
     ]
    }
   ],
   "source": [
    "VERDICT_TOKENS = tokenize(RAW_VERDICT_TEXT)\n",
    "print(\"The verdict has this many tokens:\", len(VERDICT_TOKENS))"
   ]
  },
  {
   "cell_type": "code",
   "execution_count": 43,
   "metadata": {},
   "outputs": [
    {
     "name": "stdout",
     "output_type": "stream",
     "text": [
      "['I', 'HAD', 'always', 'thought', 'Jack', 'Gisburn', 'rather', 'a', 'cheap', 'genius', '--', 'though', 'a', 'good', 'fellow', 'enough', '--', 'so', 'it', 'was', 'no', 'great', 'surprise', 'to', 'me', 'to', 'hear', 'that', ',', 'in']\n"
     ]
    }
   ],
   "source": [
    "print(VERDICT_TOKENS[:30])"
   ]
  },
  {
   "cell_type": "code",
   "execution_count": 44,
   "metadata": {},
   "outputs": [
    {
     "name": "stdout",
     "output_type": "stream",
     "text": [
      "Vocabulary size is: 1130\n"
     ]
    }
   ],
   "source": [
    "ALL_WORDS = sorted(set(VERDICT_TOKENS))\n",
    "VOCAB_SIZE = len(ALL_WORDS)\n",
    "print(\"Vocabulary size is:\", VOCAB_SIZE)"
   ]
  },
  {
   "cell_type": "code",
   "execution_count": 45,
   "metadata": {},
   "outputs": [],
   "source": [
    "VOCAB = {word : idx for idx, word in enumerate(ALL_WORDS)}"
   ]
  },
  {
   "cell_type": "code",
   "execution_count": 46,
   "metadata": {},
   "outputs": [
    {
     "name": "stdout",
     "output_type": "stream",
     "text": [
      "('!', 0)\n",
      "('\"', 1)\n",
      "(\"'\", 2)\n",
      "('(', 3)\n",
      "(')', 4)\n",
      "(',', 5)\n",
      "('--', 6)\n",
      "('.', 7)\n",
      "(':', 8)\n",
      "(';', 9)\n",
      "('?', 10)\n",
      "('A', 11)\n",
      "('Ah', 12)\n",
      "('Among', 13)\n",
      "('And', 14)\n",
      "('Are', 15)\n",
      "('Arrt', 16)\n",
      "('As', 17)\n",
      "('At', 18)\n",
      "('Be', 19)\n",
      "('Begin', 20)\n",
      "('Burlington', 21)\n",
      "('But', 22)\n",
      "('By', 23)\n",
      "('Carlo', 24)\n",
      "('Chicago', 25)\n",
      "('Claude', 26)\n",
      "('Come', 27)\n",
      "('Croft', 28)\n",
      "('Destroyed', 29)\n"
     ]
    }
   ],
   "source": [
    "for item, _ in zip(VOCAB.items(), range(30)):\n",
    "    print(item)"
   ]
  },
  {
   "cell_type": "code",
   "execution_count": 47,
   "metadata": {},
   "outputs": [],
   "source": [
    "class SimpleTokenizerV1:\n",
    "    def __init__(self, vocab : dict[str, int]) -> None:\n",
    "        self.str_to_int = vocab            #1\n",
    "        self.int_to_str = {i:s for s,i in vocab.items()}        #2\n",
    "\n",
    "    def encode(self, text : str) -> list[int]:         #3\n",
    "        preprocessed = re.split(r'([,.:;?_!\\\"\\(\\)\\']|--|\\s)', text)\n",
    "        preprocessed = [item.strip() for item in preprocessed]\n",
    "        preprocessed = [item for item in preprocessed if item]\n",
    "        ids = [self.str_to_int[s] for s in preprocessed]\n",
    "        return ids\n",
    "\n",
    "    def decode(self, ids : list[int]) -> str:         #4\n",
    "        text = \" \".join([self.int_to_str[i] for i in ids]) \n",
    "        text = re.sub(r'\\s+([,.?!\\\"\\(\\)\\'])', r'\\1', text)    #5\n",
    "        return text\n"
   ]
  },
  {
   "cell_type": "code",
   "execution_count": 48,
   "metadata": {},
   "outputs": [],
   "source": [
    "TOKENIZER = SimpleTokenizerV1(VOCAB)"
   ]
  },
  {
   "cell_type": "code",
   "execution_count": 49,
   "metadata": {},
   "outputs": [
    {
     "name": "stdout",
     "output_type": "stream",
     "text": [
      "The ids are:\n",
      "[1, 56, 2, 850, 988, 602, 533, 746, 5, 1126, 596, 5, 1, 67, 7, 38, 851, 1108, 754, 793, 7]\n",
      "The decoded text is:\n",
      "\" It' s the last he painted, you know,\" Mrs. Gisburn said with pardonable pride.\n"
     ]
    }
   ],
   "source": [
    "text = \"\"\"\"It's the last he painted, you know,\" \n",
    "       Mrs. Gisburn said with pardonable pride.\"\"\"\n",
    "ids = TOKENIZER.encode(text)\n",
    "\n",
    "print(\"The ids are:\")\n",
    "print(ids)\n",
    "\n",
    "print(\"The decoded text is:\")\n",
    "print(TOKENIZER.decode(ids))\n"
   ]
  },
  {
   "cell_type": "code",
   "execution_count": 50,
   "metadata": {},
   "outputs": [
    {
     "ename": "KeyError",
     "evalue": "'Hello'",
     "output_type": "error",
     "traceback": [
      "\u001b[0;31m---------------------------------------------------------------------------\u001b[0m",
      "\u001b[0;31mKeyError\u001b[0m                                  Traceback (most recent call last)",
      "Cell \u001b[0;32mIn[50], line 1\u001b[0m\n\u001b[0;32m----> 1\u001b[0m \u001b[43mTOKENIZER\u001b[49m\u001b[38;5;241;43m.\u001b[39;49m\u001b[43mencode\u001b[49m\u001b[43m(\u001b[49m\u001b[38;5;124;43m\"\u001b[39;49m\u001b[38;5;124;43mHello, do you like tea?\u001b[39;49m\u001b[38;5;124;43m\"\u001b[39;49m\u001b[43m)\u001b[49m\n",
      "Cell \u001b[0;32mIn[47], line 10\u001b[0m, in \u001b[0;36mSimpleTokenizerV1.encode\u001b[0;34m(self, text)\u001b[0m\n\u001b[1;32m      8\u001b[0m preprocessed \u001b[38;5;241m=\u001b[39m [item\u001b[38;5;241m.\u001b[39mstrip() \u001b[38;5;28;01mfor\u001b[39;00m item \u001b[38;5;129;01min\u001b[39;00m preprocessed]\n\u001b[1;32m      9\u001b[0m preprocessed \u001b[38;5;241m=\u001b[39m [item \u001b[38;5;28;01mfor\u001b[39;00m item \u001b[38;5;129;01min\u001b[39;00m preprocessed \u001b[38;5;28;01mif\u001b[39;00m item]\n\u001b[0;32m---> 10\u001b[0m ids \u001b[38;5;241m=\u001b[39m [\u001b[38;5;28;43mself\u001b[39;49m\u001b[38;5;241;43m.\u001b[39;49m\u001b[43mstr_to_int\u001b[49m\u001b[43m[\u001b[49m\u001b[43ms\u001b[49m\u001b[43m]\u001b[49m \u001b[38;5;28;01mfor\u001b[39;00m s \u001b[38;5;129;01min\u001b[39;00m preprocessed]\n\u001b[1;32m     11\u001b[0m \u001b[38;5;28;01mreturn\u001b[39;00m ids\n",
      "\u001b[0;31mKeyError\u001b[0m: 'Hello'"
     ]
    }
   ],
   "source": [
    "TOKENIZER.encode(\"Hello, do you like tea?\")"
   ]
  },
  {
   "cell_type": "code",
   "execution_count": 51,
   "metadata": {},
   "outputs": [
    {
     "name": "stdout",
     "output_type": "stream",
     "text": [
      "Type of ALL_WORDS is <class 'list'>\n",
      "Length of all words is 1132\n",
      "Vocab size is: 1132\n",
      "('younger', 1127)\n",
      "('your', 1128)\n",
      "('yourself', 1129)\n",
      "('<|endoftext|>', 1130)\n",
      "('<|unk|>', 1131)\n"
     ]
    }
   ],
   "source": [
    "ALL_WORDS = sorted(set(VERDICT_TOKENS))\n",
    "print(\"Type of ALL_WORDS is\", type(ALL_WORDS))\n",
    "ALL_WORDS += [\"<|endoftext|>\", \"<|unk|>\"]\n",
    "print(\"Length of all words is\", len(ALL_WORDS))\n",
    "VOCAB = {word : idx for idx, word in enumerate(ALL_WORDS)}\n",
    "\n",
    "print(\"Vocab size is:\", len(VOCAB))\n",
    "\n",
    "for i, item in enumerate(list(VOCAB.items())[-5:]):\n",
    "    print(item)"
   ]
  },
  {
   "cell_type": "code",
   "execution_count": 52,
   "metadata": {},
   "outputs": [],
   "source": [
    "class SimpleTokenizerV2:\n",
    "    def __init__(self, vocab : dict[str, int]) -> None:\n",
    "        self.str_to_int = vocab            #1\n",
    "        self.int_to_str = {i:s for s,i in vocab.items()}        #2\n",
    "        self.unk_idx = self.str_to_int[\"<|unk|>\"]\n",
    "\n",
    "    def encode(self, text : str) -> list[int]:         #3\n",
    "        preprocessed = re.split(r'([,.:;?_!\\\"\\(\\)\\']|--|\\s)', text)\n",
    "        preprocessed = [item.strip() for item in preprocessed]\n",
    "        preprocessed = [item for item in preprocessed if item]\n",
    "        ids = [self.str_to_int.get(s, self.unk_idx) for s in preprocessed]\n",
    "        return ids\n",
    "\n",
    "    def decode(self, ids : list[int]) -> str:         #4\n",
    "        text = \" \".join([self.int_to_str[i] for i in ids]) \n",
    "        text = re.sub(r'\\s+([,.?!\\\"\\(\\)\\'])', r'\\1', text)    #5\n",
    "        return text\n",
    "\n",
    "\n",
    "TOKENIZER = SimpleTokenizerV2(VOCAB)"
   ]
  },
  {
   "cell_type": "code",
   "execution_count": 53,
   "metadata": {},
   "outputs": [
    {
     "name": "stdout",
     "output_type": "stream",
     "text": [
      "Hello, do you like tea? <|endoftext|> In the sunlit terraces of the palace.\n",
      "Encoded text:\n",
      "[1131, 5, 355, 1126, 628, 975, 10, 1130, 55, 988, 956, 984, 722, 988, 1131, 7]\n",
      "Decoded text:\n",
      "<|unk|>, do you like tea? <|endoftext|> In the sunlit terraces of the <|unk|>.\n"
     ]
    }
   ],
   "source": [
    "text1 = \"Hello, do you like tea?\"\n",
    "text2 = \"In the sunlit terraces of the palace.\"\n",
    "text = \" <|endoftext|> \".join((text1, text2))\n",
    "print(text)\n",
    "\n",
    "encoded = TOKENIZER.encode(text)\n",
    "decoded = TOKENIZER.decode(encoded)\n",
    "\n",
    "print(\"Encoded text:\")\n",
    "print(encoded)\n",
    "\n",
    "print(\"Decoded text:\")\n",
    "print(decoded)"
   ]
  },
  {
   "cell_type": "code",
   "execution_count": 54,
   "metadata": {},
   "outputs": [
    {
     "name": "stdout",
     "output_type": "stream",
     "text": [
      "tiktoken version method 1: 0.8.0 0.8.0\n"
     ]
    }
   ],
   "source": [
    "import tiktoken\n",
    "from importlib.metadata import version\n",
    "\n",
    "print(\"tiktoken version method 1:\", version(\"tiktoken\"), tiktoken.__version__)\n",
    "\n"
   ]
  },
  {
   "cell_type": "code",
   "execution_count": 55,
   "metadata": {},
   "outputs": [],
   "source": [
    "GPT2_TOKENIZER = tiktoken.get_encoding(\"gpt2\")\n"
   ]
  },
  {
   "cell_type": "code",
   "execution_count": 56,
   "metadata": {},
   "outputs": [
    {
     "name": "stdout",
     "output_type": "stream",
     "text": [
      "Encoded text is: \n",
      "[15496, 11, 466, 345, 588, 8887, 30, 220, 50256, 554, 262, 4252, 18250, 8812, 2114, 1659, 617, 34680, 27271, 13]\n",
      "Decoded text is: \n",
      "Hello, do you like tea? <|endoftext|> In the sunlit terracesof someunknownPlace.\n"
     ]
    }
   ],
   "source": [
    "text = (\n",
    "    \"Hello, do you like tea? <|endoftext|> In the sunlit terraces\"\n",
    "     \"of someunknownPlace.\"\n",
    ")\n",
    "\n",
    "integers = GPT2_TOKENIZER.encode(text, allowed_special={\"<|endoftext|>\"})\n",
    "print(\"Encoded text is: \")\n",
    "print(integers)\n",
    "\n",
    "decoded = GPT2_TOKENIZER.decode(integers)\n",
    "print(\"Decoded text is: \")\n",
    "print(decoded)"
   ]
  },
  {
   "cell_type": "code",
   "execution_count": 57,
   "metadata": {},
   "outputs": [
    {
     "name": "stdout",
     "output_type": "stream",
     "text": [
      "[33901, 86, 343, 86, 220, 959]\n",
      "Akwirw ier\n"
     ]
    }
   ],
   "source": [
    "enc = GPT2_TOKENIZER.encode(\"Akwirw ier\")\n",
    "print(enc)\n",
    "print(GPT2_TOKENIZER.decode(enc))"
   ]
  },
  {
   "cell_type": "code",
   "execution_count": 58,
   "metadata": {},
   "outputs": [
    {
     "name": "stdout",
     "output_type": "stream",
     "text": [
      "Tokens in the set: 5145\n",
      "First sample\n",
      "x: [290, 4920, 2241, 287]\n",
      "y:      [4920, 2241, 287, 257]\n"
     ]
    }
   ],
   "source": [
    "enc_text = GPT2_TOKENIZER.encode(RAW_VERDICT_TEXT)\n",
    "print(\"Tokens in the set:\", len(enc_text))\n",
    "\n",
    "enc_sample = enc_text[50:]\n",
    "\n",
    "print(\"First sample\")\n",
    "context_size = 4         #1\n",
    "x = enc_sample[:context_size]\n",
    "y = enc_sample[1:context_size+1]\n",
    "print(f\"x: {x}\")\n",
    "print(f\"y:      {y}\")"
   ]
  },
  {
   "cell_type": "code",
   "execution_count": 59,
   "metadata": {},
   "outputs": [
    {
     "name": "stdout",
     "output_type": "stream",
     "text": [
      "[290] ----> 4920\n",
      "[290, 4920] ----> 2241\n",
      "[290, 4920, 2241] ----> 287\n",
      "[290, 4920, 2241, 287] ----> 257\n"
     ]
    }
   ],
   "source": [
    "for i in range(1, context_size+1):\n",
    "    context = enc_sample[:i]\n",
    "    desired = enc_sample[i]\n",
    "    print(context, \"---->\", desired)"
   ]
  },
  {
   "cell_type": "code",
   "execution_count": 62,
   "metadata": {},
   "outputs": [
    {
     "name": "stdout",
     "output_type": "stream",
     "text": [
      " and ---->  established\n",
      " and established ---->  himself\n",
      " and established himself ---->  in\n",
      " and established himself in ---->  a\n"
     ]
    }
   ],
   "source": [
    "for i in range(1, context_size+1):\n",
    "    context = enc_sample[:i]\n",
    "    desired = enc_sample[i]\n",
    "    print(GPT2_TOKENIZER.decode(context), \"---->\", GPT2_TOKENIZER.decode([desired]))  \n"
   ]
  },
  {
   "cell_type": "code",
   "execution_count": 63,
   "metadata": {},
   "outputs": [],
   "source": [
    "import torch\n",
    "from typing import Protocol\n",
    "from torch.utils.data import Dataset\n",
    "\n",
    "\n",
    "class Tokenizer(Protocol):\n",
    "    def encode(self, value: str) -> list[int]:\n",
    "        ...\n",
    "    def decode(self, value: list[int]) -> str:\n",
    "        ...\n",
    "\n",
    "\n",
    "class GPTDatasetV1(Dataset):\n",
    "    def __init__(self, txt : str, tokenizer : Tokenizer, max_length : int, stride : int) -> None:\n",
    "        self.input_ids = list[torch.Tensor]()\n",
    "        self.target_ids = list[torch.Tensor]()\n",
    "\n",
    "        token_ids = tokenizer.encode(txt)    #1\n",
    "\n",
    "        for i in range(0, len(token_ids) - max_length, stride):     #2\n",
    "            input_chunk = token_ids[i:i + max_length]\n",
    "            target_chunk = token_ids[i + 1: i + max_length + 1]\n",
    "            self.input_ids.append(torch.tensor(input_chunk))\n",
    "            self.target_ids.append(torch.tensor(target_chunk))\n",
    "\n",
    "    def __len__(self) -> int:    #3\n",
    "        return len(self.input_ids)\n",
    "\n",
    "    def __getitem__(self, idx : int) -> tuple[torch.Tensor, torch.Tensor]:         #4\n",
    "        return self.input_ids[idx], self.target_ids[idx]"
   ]
  },
  {
   "cell_type": "code",
   "execution_count": 69,
   "metadata": {},
   "outputs": [
    {
     "name": "stdout",
     "output_type": "stream",
     "text": [
      "5140\n",
      "(tensor([ 1807,  3619,   402,   271, 10899]), tensor([ 3619,   402,   271, 10899,  2138]))\n"
     ]
    }
   ],
   "source": [
    "dataset = GPTDatasetV1(RAW_VERDICT_TEXT, tokenizer=GPT2_TOKENIZER, max_length=5, stride=1)\n",
    "\n",
    "print(len(dataset))\n",
    "print(dataset[4])\n"
   ]
  },
  {
   "cell_type": "code",
   "execution_count": 71,
   "metadata": {},
   "outputs": [],
   "source": [
    "from torch.utils.data import DataLoader\n",
    "\n",
    "\n",
    "def create_dataloader_v1(\n",
    "    txt : str,\n",
    "    batch_size: int=4,\n",
    "    max_length: int=256,\n",
    "    stride: int=128,\n",
    "    shuffle: bool =True,\n",
    "    drop_last: bool =True,\n",
    "    num_workers: int=0,\n",
    ") -> GPTDatasetV1:\n",
    "    tokenizer = tiktoken.get_encoding(\"gpt2\")                         #1\n",
    "    dataset = GPTDatasetV1(txt, tokenizer, max_length, stride)   #2\n",
    "    dataloader = DataLoader(\n",
    "        dataset,\n",
    "        batch_size=batch_size,\n",
    "        shuffle=shuffle,\n",
    "        drop_last=drop_last,     #3\n",
    "        num_workers=num_workers     #4\n",
    "    )\n",
    "    return dataloader\n"
   ]
  },
  {
   "cell_type": "code",
   "execution_count": 80,
   "metadata": {},
   "outputs": [
    {
     "name": "stdout",
     "output_type": "stream",
     "text": [
      "tensor([[  40,  367, 2885, 1464, 1807],\n",
      "        [2885, 1464, 1807, 3619,  402]])\n",
      "tensor([[ 367, 2885, 1464, 1807, 3619],\n",
      "        [1464, 1807, 3619,  402,  271]])\n",
      "--\n",
      "tensor([[ 1807,  3619,   402,   271, 10899],\n",
      "        [  402,   271, 10899,  2138,   257]])\n",
      "tensor([[ 3619,   402,   271, 10899,  2138],\n",
      "        [  271, 10899,  2138,   257,  7026]])\n",
      "--\n",
      "tensor([[10899,  2138,   257,  7026, 15632],\n",
      "        [  257,  7026, 15632,   438,  2016]])\n",
      "tensor([[ 2138,   257,  7026, 15632,   438],\n",
      "        [ 7026, 15632,   438,  2016,   257]])\n",
      "--\n",
      "tensor([[15632,   438,  2016,   257,   922],\n",
      "        [ 2016,   257,   922,  5891,  1576]])\n",
      "tensor([[ 438, 2016,  257,  922, 5891],\n",
      "        [ 257,  922, 5891, 1576,  438]])\n",
      "--\n"
     ]
    }
   ],
   "source": [
    "dataloader = create_dataloader_v1(RAW_VERDICT_TEXT, batch_size=2, max_length=5, stride=2, shuffle=False)\n",
    "\n",
    "for item, _ in zip(dataloader, range(4)):\n",
    "    x = item[0]\n",
    "    y = item[1]\n",
    "\n",
    "    print(x)\n",
    "    print(y)\n",
    "    # 2 is for the num batches\n",
    "    # 5 is the window size.\n",
    "    assert y.shape == x.shape == torch.Size([2, 5])\n",
    "    print(\"--\")"
   ]
  },
  {
   "cell_type": "code",
   "execution_count": 83,
   "metadata": {},
   "outputs": [
    {
     "name": "stdout",
     "output_type": "stream",
     "text": [
      "Parameter containing:\n",
      "tensor([[ 0.3374, -0.1778, -0.1690],\n",
      "        [ 0.9178,  1.5810,  1.3010],\n",
      "        [ 1.2753, -0.2010, -0.1606],\n",
      "        [-0.4015,  0.9666, -1.1481],\n",
      "        [-1.1589,  0.3255, -0.6315],\n",
      "        [-2.8400, -0.7849, -1.4096]], requires_grad=True)\n"
     ]
    }
   ],
   "source": [
    "import torch\n",
    "\n",
    "vocab_size=6\n",
    "output_dim=3\n",
    "\n",
    "torch.manual_seed(123)\n",
    "embedding_layer = torch.nn.Embedding(vocab_size, output_dim)\n",
    "\n",
    "# This might not match the book is using GPU!\n",
    "print(embedding_layer.weight)\n"
   ]
  },
  {
   "cell_type": "code",
   "execution_count": 85,
   "metadata": {},
   "outputs": [
    {
     "name": "stdout",
     "output_type": "stream",
     "text": [
      "torch.Size([1]) torch.Size([1, 3])\n",
      "tensor([[-0.4015,  0.9666, -1.1481]], grad_fn=<EmbeddingBackward0>)\n"
     ]
    }
   ],
   "source": [
    "x = torch.tensor([3])\n",
    "y = embedding_layer(x)\n",
    "print(x.shape, y.shape)\n",
    "print(embedding_layer(x))\n"
   ]
  },
  {
   "cell_type": "code",
   "execution_count": 86,
   "metadata": {},
   "outputs": [
    {
     "name": "stdout",
     "output_type": "stream",
     "text": [
      "torch.Size([4]) torch.Size([4, 3])\n",
      "tensor([[ 1.2753, -0.2010, -0.1606],\n",
      "        [-0.4015,  0.9666, -1.1481],\n",
      "        [-2.8400, -0.7849, -1.4096],\n",
      "        [ 0.9178,  1.5810,  1.3010]], grad_fn=<EmbeddingBackward0>)\n"
     ]
    }
   ],
   "source": [
    "x = torch.tensor([2, 3, 5, 1])\n",
    "y = embedding_layer(x)\n",
    "print(x.shape, y.shape)\n",
    "print(embedding_layer(x))\n"
   ]
  },
  {
   "cell_type": "code",
   "execution_count": null,
   "metadata": {},
   "outputs": [
    {
     "name": "stdout",
     "output_type": "stream",
     "text": [
      "Token IDs:\n",
      " tensor([[   40,   367,  2885,  1464],\n",
      "        [ 1807,  3619,   402,   271],\n",
      "        [10899,  2138,   257,  7026],\n",
      "        [15632,   438,  2016,   257],\n",
      "        [  922,  5891,  1576,   438],\n",
      "        [  568,   340,   373,   645],\n",
      "        [ 1049,  5975,   284,   502],\n",
      "        [  284,  3285,   326,    11]])\n",
      "Inputs shape:\n",
      " torch.Size([8, 4])\n",
      "torch.Size([8, 4, 256])\n"
     ]
    }
   ],
   "source": [
    "# Embedding layer\n",
    "vocab_size = 50257\n",
    "output_dim = 256\n",
    "token_embedding_layer = torch.nn.Embedding(vocab_size, output_dim)\n",
    "\n",
    "# Data loader\n",
    "max_length = 4\n",
    "dataloader = create_dataloader_v1(\n",
    "    RAW_VERDICT_TEXT, batch_size=8, max_length=max_length,\n",
    "   stride=max_length, shuffle=False\n",
    ")\n",
    "\n",
    "# print some examples\n",
    "data_iter = iter(dataloader)\n",
    "inputs, targets = next(data_iter)\n",
    "print(\"Token IDs:\\n\", inputs)\n",
    "print(\"Inputs shape:\\n\", inputs.shape)\n",
    "\n",
    "token_embeddings = token_embedding_layer(inputs)\n",
    "print(token_embeddings.shape)"
   ]
  },
  {
   "cell_type": "code",
   "execution_count": 94,
   "metadata": {},
   "outputs": [
    {
     "name": "stdout",
     "output_type": "stream",
     "text": [
      "torch.Size([4, 256])\n"
     ]
    }
   ],
   "source": [
    "# Adding the positional\n",
    "context_length = max_length\n",
    "pos_embedding_layer = torch.nn.Embedding(context_length, output_dim)\n",
    "\n",
    "pos_embeddings = pos_embedding_layer(torch.arange(context_length))\n",
    "print(pos_embeddings.shape)\n",
    "\n",
    "# print(pos_embeddings_layer.weight.shape) will also do the same\n"
   ]
  },
  {
   "cell_type": "code",
   "execution_count": 101,
   "metadata": {},
   "outputs": [
    {
     "name": "stdout",
     "output_type": "stream",
     "text": [
      "tensor([11])\n",
      "tensor([11, 12])\n",
      "tensor([[11],\n",
      "        [13]])\n",
      "tensor([[[11],\n",
      "         [12]],\n",
      "\n",
      "        [[13],\n",
      "         [14]]])\n"
     ]
    }
   ],
   "source": [
    "# Torch allows adding like this. It adds the sub matrix to all the outer dim of the inner one.\n",
    "\n",
    "print(torch.tensor([1]) + torch.tensor([10]))\n",
    "\n",
    "print(torch.tensor([1, 2]) + torch.tensor([10]))\n",
    "\n",
    "print(torch.tensor([[1], [3]]) + torch.tensor([10]))\n",
    "\n",
    "print(torch.tensor([[[1], [2]], [[3], [4]]]) + torch.tensor([10]))"
   ]
  },
  {
   "cell_type": "code",
   "execution_count": null,
   "metadata": {},
   "outputs": [],
   "source": [
    "input_embeddings = token_embeddings + pos_embeddings\n",
    "print(input_embeddings.shape)"
   ]
  }
 ],
 "metadata": {
  "kernelspec": {
   "display_name": "Python 3 (ipykernel)",
   "language": "python",
   "name": "python3"
  },
  "language_info": {
   "codemirror_mode": {
    "name": "ipython",
    "version": 3
   },
   "file_extension": ".py",
   "mimetype": "text/x-python",
   "name": "python",
   "nbconvert_exporter": "python",
   "pygments_lexer": "ipython3",
   "version": "3.13.0"
  }
 },
 "nbformat": 4,
 "nbformat_minor": 2
}
